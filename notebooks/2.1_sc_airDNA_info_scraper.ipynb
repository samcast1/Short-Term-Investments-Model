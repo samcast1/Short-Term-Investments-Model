{
 "cells": [
  {
   "cell_type": "code",
   "execution_count": 1,
   "id": "aca5f2b6",
   "metadata": {},
   "outputs": [],
   "source": [
    "import time\n",
    "import pandas as pd\n",
    "import os\n",
    "from selenium import webdriver\n",
    "from selenium.webdriver import FirefoxOptions\n",
    "from selenium.webdriver.common.by import By\n",
    "from selenium.webdriver.support.ui import WebDriverWait\n",
    "from selenium.webdriver.support import expected_conditions as EC\n",
    "from urllib.parse import urlparse, parse_qs, urlencode, urlunparse\n",
    "\n",
    "#df = pd.read_csv(city_list)\n",
    "\n",
    "def airdna_scraper(cities) :\n",
    "    \n",
    "    opts = FirefoxOptions()\n",
    "    # opts.add_argument(\"--headless\")\n",
    "\n",
    "    driver = webdriver.Firefox(options=opts)\n",
    "    driver.get(\"https://app.airdna.co/data/us?tab=markets\")\n",
    "\n",
    "    \n",
    "    area_name_class = \"MuiTypography-root MuiTypography-titleXXS css-1l2kcxs\"\n",
    "\n",
    "    listing_info_class = \"MuiTypography-root MuiTypography-titleXXS css-3ry9xp\"\n",
    "\n",
    "\n",
    "\n",
    "\n",
    "    # area_names = driver.find_elements(By.CLASS_NAME, area_name_class)\n",
    "\n",
    "    listing_data = []\n",
    "\n",
    "    listing_class = \"MuiTypography-root MuiTypography-inherit MuiLink-root MuiLink-underlineAlways css-7g648y\"\n",
    "\n",
    "    WebDriverWait(driver, 60).until(\n",
    "        EC.visibility_of_all_elements_located((By.CLASS_NAME, listing_class))\n",
    "    )\n",
    "\n",
    "    listings_captured = 0\n",
    "    max_listings = 3\n",
    "\n",
    "\n",
    "    while listings_captured < max_listings:\n",
    "\n",
    "        listings = driver.find_elements(By.CLASS_NAME, listing_class)\n",
    "        current_listing_count = len(listings)\n",
    "\n",
    "        if current_listing_count <= listings_captured:\n",
    "            break  # No new reviews are being loaded\n",
    "\n",
    "        for listing in listings[listings_captured:]:\n",
    "            if listings_captured >= max_listings:\n",
    "                break\n",
    "            \n",
    "            driver.execute_script(\"arguments[0].scrollIntoView();\", listing)\n",
    "        \n",
    "            try:\n",
    "                # Extracting the relevant data from each review element\n",
    "                name = listing.find_element(By.CLASS_NAME, area_name_class).text\n",
    "                info = listing.find_element(By.CLASS_NAME, listing_info_class).text\n",
    "\n",
    "                if name in cities:\n",
    "\n",
    "                # Collecting the data\n",
    "                    listing_data.append({\n",
    "                        \"name\": name,\n",
    "                        \"info\": info,\n",
    "                    })\n",
    "\n",
    "                    listings_captured_captured += 1\n",
    "\n",
    "            except Exception as e:\n",
    "                print(f'Could not extract listing data: {e}')\n",
    "                continue\n",
    "\n",
    "        # Scroll down to load more reviews if needed\n",
    "        if listings_captured < max_listings:\n",
    "            driver.execute_script(\"window.scrollTo(0, document.body.scrollHeight);\")\n",
    "            WebDriverWait(driver, 20).until(\n",
    "                EC.visibility_of_all_elements_located((By.CLASS_NAME, area_name_class)))\n",
    "\n",
    "    driver.quit()\n",
    "\n",
    "    return listing_data"
   ]
  },
  {
   "cell_type": "code",
   "execution_count": 2,
   "id": "e37007a9",
   "metadata": {},
   "outputs": [],
   "source": [
    "city_list = ['New York','Birmingham','Knoxville','Montgomery','New Haven','San Diego','Helena','St. Louis','Chattanooga','Louisville','Lexington']"
   ]
  },
  {
   "cell_type": "code",
   "execution_count": 4,
   "id": "c01cf021",
   "metadata": {},
   "outputs": [
    {
     "ename": "TimeoutException",
     "evalue": "Message: \n",
     "output_type": "error",
     "traceback": [
      "\u001b[1;31m---------------------------------------------------------------------------\u001b[0m",
      "\u001b[1;31mTimeoutException\u001b[0m                          Traceback (most recent call last)",
      "Cell \u001b[1;32mIn[4], line 1\u001b[0m\n\u001b[1;32m----> 1\u001b[0m airdna_scraper(city_list)\n",
      "Cell \u001b[1;32mIn[1], line 35\u001b[0m, in \u001b[0;36mairdna_scraper\u001b[1;34m(cities)\u001b[0m\n\u001b[0;32m     31\u001b[0m listing_data \u001b[38;5;241m=\u001b[39m []\n\u001b[0;32m     33\u001b[0m listing_class \u001b[38;5;241m=\u001b[39m \u001b[38;5;124m\"\u001b[39m\u001b[38;5;124mMuiTypography-root MuiTypography-inherit MuiLink-root MuiLink-underlineAlways css-7g648y\u001b[39m\u001b[38;5;124m\"\u001b[39m\n\u001b[1;32m---> 35\u001b[0m WebDriverWait(driver, \u001b[38;5;241m60\u001b[39m)\u001b[38;5;241m.\u001b[39muntil(\n\u001b[0;32m     36\u001b[0m     EC\u001b[38;5;241m.\u001b[39mvisibility_of_all_elements_located((By\u001b[38;5;241m.\u001b[39mCLASS_NAME, listing_class))\n\u001b[0;32m     37\u001b[0m )\n\u001b[0;32m     39\u001b[0m listings_captured \u001b[38;5;241m=\u001b[39m \u001b[38;5;241m0\u001b[39m\n\u001b[0;32m     40\u001b[0m max_listings \u001b[38;5;241m=\u001b[39m \u001b[38;5;241m3\u001b[39m\n",
      "File \u001b[1;32m~\\anaconda3\\Lib\\site-packages\\selenium\\webdriver\\support\\wait.py:105\u001b[0m, in \u001b[0;36mWebDriverWait.until\u001b[1;34m(self, method, message)\u001b[0m\n\u001b[0;32m    103\u001b[0m     \u001b[38;5;28;01mif\u001b[39;00m time\u001b[38;5;241m.\u001b[39mmonotonic() \u001b[38;5;241m>\u001b[39m end_time:\n\u001b[0;32m    104\u001b[0m         \u001b[38;5;28;01mbreak\u001b[39;00m\n\u001b[1;32m--> 105\u001b[0m \u001b[38;5;28;01mraise\u001b[39;00m TimeoutException(message, screen, stacktrace)\n",
      "\u001b[1;31mTimeoutException\u001b[0m: Message: \n"
     ]
    }
   ],
   "source": [
    "airdna_scraper(city_list)"
   ]
  },
  {
   "cell_type": "code",
   "execution_count": null,
   "id": "a943623d",
   "metadata": {},
   "outputs": [],
   "source": []
  }
 ],
 "metadata": {
  "kernelspec": {
   "display_name": "Python 3 (ipykernel)",
   "language": "python",
   "name": "python3"
  },
  "language_info": {
   "codemirror_mode": {
    "name": "ipython",
    "version": 3
   },
   "file_extension": ".py",
   "mimetype": "text/x-python",
   "name": "python",
   "nbconvert_exporter": "python",
   "pygments_lexer": "ipython3",
   "version": "3.11.5"
  }
 },
 "nbformat": 4,
 "nbformat_minor": 5
}
