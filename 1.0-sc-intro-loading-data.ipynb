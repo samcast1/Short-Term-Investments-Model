{
  "nbformat": 4,
  "nbformat_minor": 0,
  "metadata": {
    "colab": {
      "provenance": [],
      "authorship_tag": "ABX9TyMPy/tCI9Urbvq0a2xwknzj",
      "include_colab_link": true
    },
    "kernelspec": {
      "name": "python3",
      "display_name": "Python 3"
    },
    "language_info": {
      "name": "python"
    }
  },
  "cells": [
    {
      "cell_type": "markdown",
      "metadata": {
        "id": "view-in-github",
        "colab_type": "text"
      },
      "source": [
        "<a href=\"https://colab.research.google.com/github/samcast1/Short-Term-Investments-Model/blob/main/1.0-sc-intro-loading-data.ipynb\" target=\"_parent\"><img src=\"https://colab.research.google.com/assets/colab-badge.svg\" alt=\"Open In Colab\"/></a>"
      ]
    },
    {
      "cell_type": "markdown",
      "source": [
        "# Introduction\n",
        "The aim of this project is to predict the most valuable real estate investment options for short-term rental (e.g., airbnb). The model will be enhanced by NLP Sentiment Analysis using web-scraped reviews in addition to market trends and economic metrics provided by Zillow research data."
      ],
      "metadata": {
        "id": "EJUcbC_y0Djt"
      }
    },
    {
      "cell_type": "markdown",
      "source": [
        "# Install and Import Libraries . . ."
      ],
      "metadata": {
        "id": "3QxJ4lLa1QP9"
      }
    },
    {
      "cell_type": "code",
      "source": [
        "!pip install pyspark\n",
        "!pip install findspark\n",
        "!pip install beautifulsoup4\n",
        "!pip install requests\n",
        "!pip install selenium\n"
      ],
      "metadata": {
        "colab": {
          "base_uri": "https://localhost:8080/"
        },
        "id": "d0cIS-u_1U37",
        "outputId": "a11ab315-8f56-402c-f408-009279fa1700"
      },
      "execution_count": null,
      "outputs": [
        {
          "output_type": "stream",
          "name": "stdout",
          "text": [
            "Collecting pyspark\n",
            "  Downloading pyspark-3.5.1.tar.gz (317.0 MB)\n",
            "\u001b[2K     \u001b[90m━━━━━━━━━━━━━━━━━━━━━━━━━━━━━━━━━━━━━━━━\u001b[0m \u001b[32m317.0/317.0 MB\u001b[0m \u001b[31m4.6 MB/s\u001b[0m eta \u001b[36m0:00:00\u001b[0m\n",
            "\u001b[?25h  Preparing metadata (setup.py) ... \u001b[?25l\u001b[?25hdone\n",
            "Requirement already satisfied: py4j==0.10.9.7 in /usr/local/lib/python3.10/dist-packages (from pyspark) (0.10.9.7)\n",
            "Building wheels for collected packages: pyspark\n",
            "  Building wheel for pyspark (setup.py) ... \u001b[?25l\u001b[?25hdone\n",
            "  Created wheel for pyspark: filename=pyspark-3.5.1-py2.py3-none-any.whl size=317488491 sha256=9c9cb244c5f50f8287adb704fc3ce178d2907d22e8e78a466748fffcbe8f5927\n",
            "  Stored in directory: /root/.cache/pip/wheels/80/1d/60/2c256ed38dddce2fdd93be545214a63e02fbd8d74fb0b7f3a6\n",
            "Successfully built pyspark\n",
            "Installing collected packages: pyspark\n",
            "Successfully installed pyspark-3.5.1\n",
            "Collecting findspark\n",
            "  Downloading findspark-2.0.1-py2.py3-none-any.whl (4.4 kB)\n",
            "Installing collected packages: findspark\n",
            "Successfully installed findspark-2.0.1\n",
            "Requirement already satisfied: beautifulsoup4 in /usr/local/lib/python3.10/dist-packages (4.12.3)\n",
            "Requirement already satisfied: soupsieve>1.2 in /usr/local/lib/python3.10/dist-packages (from beautifulsoup4) (2.5)\n",
            "Requirement already satisfied: requests in /usr/local/lib/python3.10/dist-packages (2.31.0)\n",
            "Requirement already satisfied: charset-normalizer<4,>=2 in /usr/local/lib/python3.10/dist-packages (from requests) (3.3.2)\n",
            "Requirement already satisfied: idna<4,>=2.5 in /usr/local/lib/python3.10/dist-packages (from requests) (3.7)\n",
            "Requirement already satisfied: urllib3<3,>=1.21.1 in /usr/local/lib/python3.10/dist-packages (from requests) (2.0.7)\n",
            "Requirement already satisfied: certifi>=2017.4.17 in /usr/local/lib/python3.10/dist-packages (from requests) (2024.2.2)\n",
            "Collecting selenium\n",
            "  Downloading selenium-4.21.0-py3-none-any.whl (9.5 MB)\n",
            "\u001b[2K     \u001b[90m━━━━━━━━━━━━━━━━━━━━━━━━━━━━━━━━━━━━━━━━\u001b[0m \u001b[32m9.5/9.5 MB\u001b[0m \u001b[31m46.7 MB/s\u001b[0m eta \u001b[36m0:00:00\u001b[0m\n",
            "\u001b[?25hRequirement already satisfied: urllib3[socks]<3,>=1.26 in /usr/local/lib/python3.10/dist-packages (from selenium) (2.0.7)\n",
            "Collecting trio~=0.17 (from selenium)\n",
            "  Downloading trio-0.25.1-py3-none-any.whl (467 kB)\n",
            "\u001b[2K     \u001b[90m━━━━━━━━━━━━━━━━━━━━━━━━━━━━━━━━━━━━━━━━\u001b[0m \u001b[32m467.7/467.7 kB\u001b[0m \u001b[31m49.1 MB/s\u001b[0m eta \u001b[36m0:00:00\u001b[0m\n",
            "\u001b[?25hCollecting trio-websocket~=0.9 (from selenium)\n",
            "  Downloading trio_websocket-0.11.1-py3-none-any.whl (17 kB)\n",
            "Requirement already satisfied: certifi>=2021.10.8 in /usr/local/lib/python3.10/dist-packages (from selenium) (2024.2.2)\n",
            "Requirement already satisfied: typing_extensions>=4.9.0 in /usr/local/lib/python3.10/dist-packages (from selenium) (4.11.0)\n",
            "Requirement already satisfied: attrs>=23.2.0 in /usr/local/lib/python3.10/dist-packages (from trio~=0.17->selenium) (23.2.0)\n",
            "Requirement already satisfied: sortedcontainers in /usr/local/lib/python3.10/dist-packages (from trio~=0.17->selenium) (2.4.0)\n",
            "Requirement already satisfied: idna in /usr/local/lib/python3.10/dist-packages (from trio~=0.17->selenium) (3.7)\n",
            "Collecting outcome (from trio~=0.17->selenium)\n",
            "  Downloading outcome-1.3.0.post0-py2.py3-none-any.whl (10 kB)\n",
            "Requirement already satisfied: sniffio>=1.3.0 in /usr/local/lib/python3.10/dist-packages (from trio~=0.17->selenium) (1.3.1)\n",
            "Requirement already satisfied: exceptiongroup in /usr/local/lib/python3.10/dist-packages (from trio~=0.17->selenium) (1.2.1)\n",
            "Collecting wsproto>=0.14 (from trio-websocket~=0.9->selenium)\n",
            "  Downloading wsproto-1.2.0-py3-none-any.whl (24 kB)\n",
            "Requirement already satisfied: pysocks!=1.5.7,<2.0,>=1.5.6 in /usr/local/lib/python3.10/dist-packages (from urllib3[socks]<3,>=1.26->selenium) (1.7.1)\n",
            "Collecting h11<1,>=0.9.0 (from wsproto>=0.14->trio-websocket~=0.9->selenium)\n",
            "  Downloading h11-0.14.0-py3-none-any.whl (58 kB)\n",
            "\u001b[2K     \u001b[90m━━━━━━━━━━━━━━━━━━━━━━━━━━━━━━━━━━━━━━━━\u001b[0m \u001b[32m58.3/58.3 kB\u001b[0m \u001b[31m9.6 MB/s\u001b[0m eta \u001b[36m0:00:00\u001b[0m\n",
            "\u001b[?25hInstalling collected packages: outcome, h11, wsproto, trio, trio-websocket, selenium\n",
            "Successfully installed h11-0.14.0 outcome-1.3.0.post0 selenium-4.21.0 trio-0.25.1 trio-websocket-0.11.1 wsproto-1.2.0\n"
          ]
        }
      ]
    },
    {
      "cell_type": "code",
      "source": [
        "import pyspark\n",
        "import findspark\n",
        "from pyspark.sql import SparkSession\n",
        "\n",
        "import pandas as pd\n",
        "import numpy as np\n",
        "import matplotlib.pyplot as plt\n",
        "import seaborn as sns\n",
        "\n",
        "from bs4 import BeautifulSoup\n",
        "import requests\n",
        "\n",
        "from selenium import webdriver\n",
        "from selenium.webdriver.common.by import By\n",
        "from selenium.webdriver.common.keys import Keys\n",
        "from selenium.webdriver.support.ui import WebDriverWait\n",
        "from selenium.webdriver.support import expected_conditions as EC\n",
        "import time\n",
        "\n",
        "from google.colab import files"
      ],
      "metadata": {
        "id": "42KzZlSO53LS"
      },
      "execution_count": null,
      "outputs": []
    },
    {
      "cell_type": "markdown",
      "source": [
        "# Acquiring and Loading Data . . ."
      ],
      "metadata": {
        "id": "Jsfykh7s0wi3"
      }
    },
    {
      "cell_type": "code",
      "execution_count": null,
      "metadata": {
        "id": "lTDksHbNzrw0"
      },
      "outputs": [],
      "source": [
        "findspark.init()\n",
        "spark = SparkSession.builder.appName('ShortTermInvestment').getOrCreate()"
      ]
    },
    {
      "cell_type": "code",
      "source": [
        "uploaded = files.upload()"
      ],
      "metadata": {
        "colab": {
          "base_uri": "https://localhost:8080/",
          "height": 319
        },
        "id": "MaVh_h0z8BF5",
        "outputId": "2e1807eb-b540-4124-b208-933188ba9dc3"
      },
      "execution_count": null,
      "outputs": [
        {
          "output_type": "display_data",
          "data": {
            "text/plain": [
              "<IPython.core.display.HTML object>"
            ],
            "text/html": [
              "\n",
              "     <input type=\"file\" id=\"files-40dc5ad8-558d-496f-98f5-039adb075ac2\" name=\"files[]\" multiple disabled\n",
              "        style=\"border:none\" />\n",
              "     <output id=\"result-40dc5ad8-558d-496f-98f5-039adb075ac2\">\n",
              "      Upload widget is only available when the cell has been executed in the\n",
              "      current browser session. Please rerun this cell to enable.\n",
              "      </output>\n",
              "      <script>// Copyright 2017 Google LLC\n",
              "//\n",
              "// Licensed under the Apache License, Version 2.0 (the \"License\");\n",
              "// you may not use this file except in compliance with the License.\n",
              "// You may obtain a copy of the License at\n",
              "//\n",
              "//      http://www.apache.org/licenses/LICENSE-2.0\n",
              "//\n",
              "// Unless required by applicable law or agreed to in writing, software\n",
              "// distributed under the License is distributed on an \"AS IS\" BASIS,\n",
              "// WITHOUT WARRANTIES OR CONDITIONS OF ANY KIND, either express or implied.\n",
              "// See the License for the specific language governing permissions and\n",
              "// limitations under the License.\n",
              "\n",
              "/**\n",
              " * @fileoverview Helpers for google.colab Python module.\n",
              " */\n",
              "(function(scope) {\n",
              "function span(text, styleAttributes = {}) {\n",
              "  const element = document.createElement('span');\n",
              "  element.textContent = text;\n",
              "  for (const key of Object.keys(styleAttributes)) {\n",
              "    element.style[key] = styleAttributes[key];\n",
              "  }\n",
              "  return element;\n",
              "}\n",
              "\n",
              "// Max number of bytes which will be uploaded at a time.\n",
              "const MAX_PAYLOAD_SIZE = 100 * 1024;\n",
              "\n",
              "function _uploadFiles(inputId, outputId) {\n",
              "  const steps = uploadFilesStep(inputId, outputId);\n",
              "  const outputElement = document.getElementById(outputId);\n",
              "  // Cache steps on the outputElement to make it available for the next call\n",
              "  // to uploadFilesContinue from Python.\n",
              "  outputElement.steps = steps;\n",
              "\n",
              "  return _uploadFilesContinue(outputId);\n",
              "}\n",
              "\n",
              "// This is roughly an async generator (not supported in the browser yet),\n",
              "// where there are multiple asynchronous steps and the Python side is going\n",
              "// to poll for completion of each step.\n",
              "// This uses a Promise to block the python side on completion of each step,\n",
              "// then passes the result of the previous step as the input to the next step.\n",
              "function _uploadFilesContinue(outputId) {\n",
              "  const outputElement = document.getElementById(outputId);\n",
              "  const steps = outputElement.steps;\n",
              "\n",
              "  const next = steps.next(outputElement.lastPromiseValue);\n",
              "  return Promise.resolve(next.value.promise).then((value) => {\n",
              "    // Cache the last promise value to make it available to the next\n",
              "    // step of the generator.\n",
              "    outputElement.lastPromiseValue = value;\n",
              "    return next.value.response;\n",
              "  });\n",
              "}\n",
              "\n",
              "/**\n",
              " * Generator function which is called between each async step of the upload\n",
              " * process.\n",
              " * @param {string} inputId Element ID of the input file picker element.\n",
              " * @param {string} outputId Element ID of the output display.\n",
              " * @return {!Iterable<!Object>} Iterable of next steps.\n",
              " */\n",
              "function* uploadFilesStep(inputId, outputId) {\n",
              "  const inputElement = document.getElementById(inputId);\n",
              "  inputElement.disabled = false;\n",
              "\n",
              "  const outputElement = document.getElementById(outputId);\n",
              "  outputElement.innerHTML = '';\n",
              "\n",
              "  const pickedPromise = new Promise((resolve) => {\n",
              "    inputElement.addEventListener('change', (e) => {\n",
              "      resolve(e.target.files);\n",
              "    });\n",
              "  });\n",
              "\n",
              "  const cancel = document.createElement('button');\n",
              "  inputElement.parentElement.appendChild(cancel);\n",
              "  cancel.textContent = 'Cancel upload';\n",
              "  const cancelPromise = new Promise((resolve) => {\n",
              "    cancel.onclick = () => {\n",
              "      resolve(null);\n",
              "    };\n",
              "  });\n",
              "\n",
              "  // Wait for the user to pick the files.\n",
              "  const files = yield {\n",
              "    promise: Promise.race([pickedPromise, cancelPromise]),\n",
              "    response: {\n",
              "      action: 'starting',\n",
              "    }\n",
              "  };\n",
              "\n",
              "  cancel.remove();\n",
              "\n",
              "  // Disable the input element since further picks are not allowed.\n",
              "  inputElement.disabled = true;\n",
              "\n",
              "  if (!files) {\n",
              "    return {\n",
              "      response: {\n",
              "        action: 'complete',\n",
              "      }\n",
              "    };\n",
              "  }\n",
              "\n",
              "  for (const file of files) {\n",
              "    const li = document.createElement('li');\n",
              "    li.append(span(file.name, {fontWeight: 'bold'}));\n",
              "    li.append(span(\n",
              "        `(${file.type || 'n/a'}) - ${file.size} bytes, ` +\n",
              "        `last modified: ${\n",
              "            file.lastModifiedDate ? file.lastModifiedDate.toLocaleDateString() :\n",
              "                                    'n/a'} - `));\n",
              "    const percent = span('0% done');\n",
              "    li.appendChild(percent);\n",
              "\n",
              "    outputElement.appendChild(li);\n",
              "\n",
              "    const fileDataPromise = new Promise((resolve) => {\n",
              "      const reader = new FileReader();\n",
              "      reader.onload = (e) => {\n",
              "        resolve(e.target.result);\n",
              "      };\n",
              "      reader.readAsArrayBuffer(file);\n",
              "    });\n",
              "    // Wait for the data to be ready.\n",
              "    let fileData = yield {\n",
              "      promise: fileDataPromise,\n",
              "      response: {\n",
              "        action: 'continue',\n",
              "      }\n",
              "    };\n",
              "\n",
              "    // Use a chunked sending to avoid message size limits. See b/62115660.\n",
              "    let position = 0;\n",
              "    do {\n",
              "      const length = Math.min(fileData.byteLength - position, MAX_PAYLOAD_SIZE);\n",
              "      const chunk = new Uint8Array(fileData, position, length);\n",
              "      position += length;\n",
              "\n",
              "      const base64 = btoa(String.fromCharCode.apply(null, chunk));\n",
              "      yield {\n",
              "        response: {\n",
              "          action: 'append',\n",
              "          file: file.name,\n",
              "          data: base64,\n",
              "        },\n",
              "      };\n",
              "\n",
              "      let percentDone = fileData.byteLength === 0 ?\n",
              "          100 :\n",
              "          Math.round((position / fileData.byteLength) * 100);\n",
              "      percent.textContent = `${percentDone}% done`;\n",
              "\n",
              "    } while (position < fileData.byteLength);\n",
              "  }\n",
              "\n",
              "  // All done.\n",
              "  yield {\n",
              "    response: {\n",
              "      action: 'complete',\n",
              "    }\n",
              "  };\n",
              "}\n",
              "\n",
              "scope.google = scope.google || {};\n",
              "scope.google.colab = scope.google.colab || {};\n",
              "scope.google.colab._files = {\n",
              "  _uploadFiles,\n",
              "  _uploadFilesContinue,\n",
              "};\n",
              "})(self);\n",
              "</script> "
            ]
          },
          "metadata": {}
        },
        {
          "output_type": "stream",
          "name": "stdout",
          "text": [
            "Saving market_heat_index.csv to market_heat_index.csv\n",
            "Saving rental_index.csv to rental_index.csv\n",
            "Saving sales_count.csv to sales_count.csv\n",
            "Saving sales_median.csv to sales_median.csv\n",
            "Saving sales_to_list_ratio.csv to sales_to_list_ratio.csv\n",
            "Saving zhvi_bottom_tier.csv to zhvi_bottom_tier.csv\n",
            "Saving zhvi_mid_tier.csv to zhvi_mid_tier.csv\n",
            "Saving zhvi_top_tier.csv to zhvi_top_tier.csv\n"
          ]
        }
      ]
    },
    {
      "cell_type": "code",
      "source": [
        "uploaded_files = uploaded.keys()\n",
        "print(uploaded_files)"
      ],
      "metadata": {
        "colab": {
          "base_uri": "https://localhost:8080/"
        },
        "id": "QPsjxEW-8eR1",
        "outputId": "1ff832d7-1ea3-4ec4-cf1a-192512369099"
      },
      "execution_count": null,
      "outputs": [
        {
          "output_type": "stream",
          "name": "stdout",
          "text": [
            "dict_keys(['market_heat_index.csv', 'rental_index.csv', 'sales_count.csv', 'sales_median.csv', 'sales_to_list_ratio.csv', 'zhvi_bottom_tier.csv', 'zhvi_mid_tier.csv', 'zhvi_top_tier.csv'])\n"
          ]
        }
      ]
    },
    {
      "cell_type": "code",
      "source": [
        "zhvi_top = spark.read.csv(\"zhvi_top_tier.csv\", header=True, inferSchema=True)\n",
        "zhvi_mid = spark.read.csv(\"zhvi_mid_tier.csv\", header=True, inferSchema=True)\n",
        "zhvi_bot = spark.read.csv(\"zhvi_bottom_tier.csv\", header=True, inferSchema=True)\n",
        "sales_count = spark.read.csv(\"sales_count.csv\", header=True, inferSchema=True)\n",
        "sales_med = spark.read.csv(\"sales_median.csv\", header=True, inferSchema=True)\n",
        "sales_list = spark.read.csv(\"sales_to_list_ratio.csv\", header=True, inferSchema=True)\n",
        "rental = spark.read.csv(\"rental_index.csv\", header=True, inferSchema=True)\n",
        "market_heat = spark.read.csv(\"market_heat_index.csv\", header=True, inferSchema=True)"
      ],
      "metadata": {
        "id": "1mBDEafY1Igx"
      },
      "execution_count": null,
      "outputs": []
    },
    {
      "cell_type": "markdown",
      "source": [
        "Web-Scraping for Sentiment Analysis:\n",
        "\n",
        "- Generate a list of cities using the zillow metro data.\n",
        "- Use this list to construct a list of airbnb urls that look like:\n",
        "\n",
        "    'https://www.airbnb.com/s/{city}/homes'\n",
        "\n",
        "- Use the constructed urls to scrape reviews with Selenium and BeautifulSoup."
      ],
      "metadata": {
        "id": "1A5sw-msCsqf"
      }
    },
    {
      "cell_type": "code",
      "source": [
        "# run sql queries to gather all city names from the zhvi tables\n",
        "\n",
        "zhvi_top.createOrReplaceTempView(\"top\")\n",
        "zhvi_mid.createOrReplaceTempView(\"mid\")\n",
        "zhvi_bot.createOrReplaceTempView(\"bot\")"
      ],
      "metadata": {
        "id": "5yijrxWcCuhc"
      },
      "execution_count": null,
      "outputs": []
    },
    {
      "cell_type": "code",
      "source": [
        "# make it a little easier to run queries\n",
        "\n",
        "def sql(query):\n",
        "  result = spark.sql(query)\n",
        "  result.show()"
      ],
      "metadata": {
        "id": "_NzBJ--W7GEw"
      },
      "execution_count": null,
      "outputs": []
    },
    {
      "cell_type": "code",
      "source": [
        "sql(\"\"\"\n",
        "SELECT *\n",
        "FROM top\n",
        "LIMIT 10\n",
        "\"\"\")"
      ],
      "metadata": {
        "colab": {
          "base_uri": "https://localhost:8080/"
        },
        "id": "6lI4wS2pPaQi",
        "outputId": "788fde37-5bd1-4180-a508-830b3748a05d"
      },
      "execution_count": null,
      "outputs": [
        {
          "output_type": "stream",
          "name": "stdout",
          "text": [
            "+--------+--------+----------------+----------+---------+------------------+------------------+------------------+------------------+------------------+------------------+------------------+------------------+------------------+------------------+------------------+------------------+------------------+------------------+------------------+------------------+------------------+------------------+------------------+------------------+------------------+------------------+------------------+------------------+------------------+------------------+------------------+------------------+------------------+------------------+------------------+------------------+------------------+------------------+------------------+------------------+------------------+------------------+------------------+------------------+------------------+------------------+------------------+------------------+------------------+------------------+------------------+------------------+------------------+------------------+------------------+------------------+------------------+------------------+------------------+------------------+------------------+------------------+------------------+------------------+------------------+------------------+------------------+------------------+------------------+------------------+------------------+-----------------+------------------+------------------+------------------+------------------+------------------+------------------+------------------+------------------+------------------+------------------+------------------+------------------+------------------+------------------+------------------+------------------+------------------+------------------+------------------+------------------+------------------+------------------+------------------+------------------+------------------+------------------+------------------+------------------+------------------+------------------+------------------+------------------+-----------------+------------------+------------------+------------------+------------------+------------------+------------------+------------------+------------------+------------------+------------------+------------------+------------------+------------------+------------------+------------------+------------------+------------------+------------------+------------------+------------------+------------------+------------------+------------------+------------------+------------------+------------------+------------------+------------------+------------------+------------------+------------------+------------------+------------------+------------------+------------------+------------------+------------------+------------------+------------------+------------------+------------------+------------------+------------------+------------------+------------------+------------------+------------------+------------------+------------------+------------------+------------------+------------------+------------------+------------------+------------------+------------------+------------------+------------------+------------------+------------------+------------------+------------------+------------------+------------------+------------------+------------------+------------------+------------------+------------------+------------------+------------------+------------------+------------------+------------------+------------------+------------------+------------------+------------------+------------------+------------------+------------------+------------------+------------------+------------------+------------------+------------------+------------------+------------------+------------------+------------------+------------------+------------------+------------------+------------------+------------------+------------------+------------------+------------------+------------------+------------------+------------------+------------------+------------------+------------------+------------------+------------------+------------------+------------------+------------------+------------------+------------------+------------------+------------------+------------------+------------------+------------------+------------------+------------------+------------------+------------------+------------------+------------------+------------------+-----------------+------------------+------------------+------------------+------------------+------------------+------------------+------------------+------------------+------------------+------------------+------------------+------------------+------------------+------------------+------------------+------------------+------------------+------------------+------------------+------------------+-----------------+------------------+------------------+------------------+------------------+------------------+------------------+------------------+------------------+------------------+------------------+------------------+------------------+------------------+------------------+------------------+------------------+------------------+------------------+------------------+------------------+------------------+------------------+------------------+------------------+------------------+------------------+------------------+------------------+------------------+------------------+------------------+------------------+------------------+------------------+------------------+------------------+------------------+------------------+------------------+------------------+------------------+------------------+------------------+------------------+------------------+------------------+\n",
            "|RegionID|SizeRank|      RegionName|RegionType|StateName|        2000-01-31|        2000-02-29|        2000-03-31|        2000-04-30|        2000-05-31|        2000-06-30|        2000-07-31|        2000-08-31|        2000-09-30|        2000-10-31|        2000-11-30|        2000-12-31|        2001-01-31|        2001-02-28|        2001-03-31|        2001-04-30|        2001-05-31|        2001-06-30|        2001-07-31|        2001-08-31|        2001-09-30|        2001-10-31|        2001-11-30|        2001-12-31|        2002-01-31|        2002-02-28|        2002-03-31|        2002-04-30|        2002-05-31|        2002-06-30|        2002-07-31|        2002-08-31|        2002-09-30|        2002-10-31|        2002-11-30|        2002-12-31|        2003-01-31|        2003-02-28|        2003-03-31|        2003-04-30|        2003-05-31|        2003-06-30|        2003-07-31|        2003-08-31|        2003-09-30|        2003-10-31|        2003-11-30|        2003-12-31|        2004-01-31|        2004-02-29|        2004-03-31|        2004-04-30|        2004-05-31|        2004-06-30|        2004-07-31|        2004-08-31|        2004-09-30|        2004-10-31|        2004-11-30|        2004-12-31|        2005-01-31|        2005-02-28|        2005-03-31|        2005-04-30|        2005-05-31|        2005-06-30|        2005-07-31|       2005-08-31|        2005-09-30|        2005-10-31|        2005-11-30|        2005-12-31|        2006-01-31|        2006-02-28|        2006-03-31|        2006-04-30|        2006-05-31|        2006-06-30|        2006-07-31|        2006-08-31|        2006-09-30|        2006-10-31|        2006-11-30|        2006-12-31|        2007-01-31|        2007-02-28|        2007-03-31|        2007-04-30|        2007-05-31|        2007-06-30|        2007-07-31|        2007-08-31|        2007-09-30|        2007-10-31|        2007-11-30|        2007-12-31|        2008-01-31|        2008-02-29|        2008-03-31|        2008-04-30|       2008-05-31|        2008-06-30|        2008-07-31|        2008-08-31|        2008-09-30|        2008-10-31|        2008-11-30|        2008-12-31|        2009-01-31|        2009-02-28|        2009-03-31|        2009-04-30|        2009-05-31|        2009-06-30|        2009-07-31|        2009-08-31|        2009-09-30|        2009-10-31|        2009-11-30|        2009-12-31|        2010-01-31|        2010-02-28|        2010-03-31|        2010-04-30|        2010-05-31|        2010-06-30|        2010-07-31|        2010-08-31|        2010-09-30|        2010-10-31|        2010-11-30|        2010-12-31|        2011-01-31|        2011-02-28|        2011-03-31|        2011-04-30|        2011-05-31|        2011-06-30|        2011-07-31|        2011-08-31|        2011-09-30|        2011-10-31|        2011-11-30|        2011-12-31|        2012-01-31|        2012-02-29|        2012-03-31|        2012-04-30|        2012-05-31|        2012-06-30|        2012-07-31|        2012-08-31|        2012-09-30|        2012-10-31|        2012-11-30|        2012-12-31|        2013-01-31|        2013-02-28|        2013-03-31|        2013-04-30|        2013-05-31|        2013-06-30|        2013-07-31|        2013-08-31|        2013-09-30|        2013-10-31|        2013-11-30|        2013-12-31|        2014-01-31|        2014-02-28|        2014-03-31|        2014-04-30|        2014-05-31|        2014-06-30|        2014-07-31|        2014-08-31|        2014-09-30|        2014-10-31|        2014-11-30|        2014-12-31|        2015-01-31|        2015-02-28|        2015-03-31|        2015-04-30|        2015-05-31|        2015-06-30|        2015-07-31|        2015-08-31|        2015-09-30|        2015-10-31|        2015-11-30|        2015-12-31|        2016-01-31|        2016-02-29|        2016-03-31|        2016-04-30|        2016-05-31|        2016-06-30|        2016-07-31|        2016-08-31|        2016-09-30|        2016-10-31|        2016-11-30|        2016-12-31|        2017-01-31|        2017-02-28|        2017-03-31|        2017-04-30|        2017-05-31|        2017-06-30|        2017-07-31|        2017-08-31|        2017-09-30|        2017-10-31|        2017-11-30|        2017-12-31|        2018-01-31|        2018-02-28|        2018-03-31|        2018-04-30|        2018-05-31|        2018-06-30|        2018-07-31|        2018-08-31|       2018-09-30|        2018-10-31|        2018-11-30|        2018-12-31|        2019-01-31|        2019-02-28|        2019-03-31|        2019-04-30|        2019-05-31|        2019-06-30|        2019-07-31|        2019-08-31|        2019-09-30|        2019-10-31|        2019-11-30|        2019-12-31|        2020-01-31|        2020-02-29|        2020-03-31|        2020-04-30|        2020-05-31|       2020-06-30|        2020-07-31|        2020-08-31|        2020-09-30|        2020-10-31|        2020-11-30|        2020-12-31|        2021-01-31|        2021-02-28|        2021-03-31|        2021-04-30|        2021-05-31|        2021-06-30|        2021-07-31|        2021-08-31|        2021-09-30|        2021-10-31|        2021-11-30|        2021-12-31|        2022-01-31|        2022-02-28|        2022-03-31|        2022-04-30|        2022-05-31|        2022-06-30|        2022-07-31|        2022-08-31|        2022-09-30|        2022-10-31|        2022-11-30|        2022-12-31|        2023-01-31|        2023-02-28|        2023-03-31|        2023-04-30|        2023-05-31|        2023-06-30|        2023-07-31|        2023-08-31|        2023-09-30|        2023-10-31|        2023-11-30|        2023-12-31|        2024-01-31|        2024-02-29|        2024-03-31|        2024-04-30|\n",
            "+--------+--------+----------------+----------+---------+------------------+------------------+------------------+------------------+------------------+------------------+------------------+------------------+------------------+------------------+------------------+------------------+------------------+------------------+------------------+------------------+------------------+------------------+------------------+------------------+------------------+------------------+------------------+------------------+------------------+------------------+------------------+------------------+------------------+------------------+------------------+------------------+------------------+------------------+------------------+------------------+------------------+------------------+------------------+------------------+------------------+------------------+------------------+------------------+------------------+------------------+------------------+------------------+------------------+------------------+------------------+------------------+------------------+------------------+------------------+------------------+------------------+------------------+------------------+------------------+------------------+------------------+------------------+------------------+------------------+------------------+------------------+-----------------+------------------+------------------+------------------+------------------+------------------+------------------+------------------+------------------+------------------+------------------+------------------+------------------+------------------+------------------+------------------+------------------+------------------+------------------+------------------+------------------+------------------+------------------+------------------+------------------+------------------+------------------+------------------+------------------+------------------+------------------+------------------+------------------+-----------------+------------------+------------------+------------------+------------------+------------------+------------------+------------------+------------------+------------------+------------------+------------------+------------------+------------------+------------------+------------------+------------------+------------------+------------------+------------------+------------------+------------------+------------------+------------------+------------------+------------------+------------------+------------------+------------------+------------------+------------------+------------------+------------------+------------------+------------------+------------------+------------------+------------------+------------------+------------------+------------------+------------------+------------------+------------------+------------------+------------------+------------------+------------------+------------------+------------------+------------------+------------------+------------------+------------------+------------------+------------------+------------------+------------------+------------------+------------------+------------------+------------------+------------------+------------------+------------------+------------------+------------------+------------------+------------------+------------------+------------------+------------------+------------------+------------------+------------------+------------------+------------------+------------------+------------------+------------------+------------------+------------------+------------------+------------------+------------------+------------------+------------------+------------------+------------------+------------------+------------------+------------------+------------------+------------------+------------------+------------------+------------------+------------------+------------------+------------------+------------------+------------------+------------------+------------------+------------------+------------------+------------------+------------------+------------------+------------------+------------------+------------------+------------------+------------------+------------------+------------------+------------------+------------------+------------------+------------------+------------------+------------------+------------------+------------------+-----------------+------------------+------------------+------------------+------------------+------------------+------------------+------------------+------------------+------------------+------------------+------------------+------------------+------------------+------------------+------------------+------------------+------------------+------------------+------------------+------------------+-----------------+------------------+------------------+------------------+------------------+------------------+------------------+------------------+------------------+------------------+------------------+------------------+------------------+------------------+------------------+------------------+------------------+------------------+------------------+------------------+------------------+------------------+------------------+------------------+------------------+------------------+------------------+------------------+------------------+------------------+------------------+------------------+------------------+------------------+------------------+------------------+------------------+------------------+------------------+------------------+------------------+------------------+------------------+------------------+------------------+------------------+------------------+\n",
            "|  102001|       0|   United States|   country|     NULL|240169.98376133014|240706.31913133545| 241358.9775865468|242751.58537316028|244338.99497406554|246046.53939527148| 247863.7923449932|249803.05404512948| 251801.2347123948|253783.67096172972| 255735.6911106809| 257667.2860373772| 259438.9493422356|261077.67245194805| 262721.4102632641|264508.01882537716|266363.48860297335|268190.92148799385| 270025.0398974665|271924.00049121905|273841.88403740147| 275737.1826740485|277494.54063626804| 279111.1581330547|280559.96846326184|281986.24503259023|283505.26495132333|  285187.989410276|287050.57566209615|289084.43810639204| 291348.3562608806|293790.84953727067|296288.67769879935| 298761.1671154105| 301132.7429193787|  303428.124640186| 305536.3579785323| 307580.4269832671|309690.94511123706| 311964.7201682907|  314411.400067324| 316834.1971779375|319357.83772837854| 322014.7639308362|324866.98348488566| 327721.2282913163|330427.35716670845| 332987.8924364084|335541.24531547487|338286.70328783715| 341329.1101068105|  344737.372864302|348616.57619739196| 352880.3354781174|357401.97161251825| 361931.7110229369| 366411.2160680604|370696.47472178476|374640.28841807303|   378459.00216805| 382114.3148322629|385908.82839484815|389809.27706621954|394209.10618831153|398820.45554437215| 403554.2325092208|408254.21339618176|412983.9907196728| 417668.9749852784| 422121.8902748758| 426014.1842253292|429467.49467722984| 432406.9607487912|435135.22993945837| 437853.6770022136| 440634.5639299949|443309.32197779935| 445497.9911554807|446962.05886995763|447859.92653732124| 448067.9053609402|447963.81589321216| 447592.8484897541| 447163.8956855065| 446717.4370404918| 446328.5736638333| 445974.5020086241| 445577.8493292646|444787.58512683323|443524.29648573627| 441696.9698701966| 439692.3690513326|437434.18143214885| 435050.6344389192| 432416.9331139603| 429663.0161072971|426730.92261095153|423452.49716428487| 419763.7452864996| 415694.5397518271|411461.9860686676|407191.36226051016|402809.28291715804|398250.67147034826| 393763.2955680888|389494.14066272596|385320.84944771667| 381235.0822845995|377266.61920006573| 373953.4396681539| 370917.2242505075| 368055.7940396661|365260.27571955975| 362700.7226297233| 360474.0454732178| 358384.0333692902|356467.01970523474| 354943.9323887786|  354236.957573642| 354130.2025710269|354252.36958808993|354248.63567985647| 354349.8011012837| 354714.1344689504|  354997.257616662| 354756.0843809571| 353634.6263109482|351947.90444254986| 349891.4821003636|347767.65465897974|345642.04443595186|343764.03349098586|342103.44655717857| 340642.3293822846|339200.14255073905| 337686.8031176319| 335955.1153674998| 334335.1337587164|332918.51462553197| 331649.0651134165|330389.46074501734|329115.34033925436|328139.32738922787|327341.40985193703|326835.57436824305| 326641.9044035059| 326883.4246548749| 327473.2321836392|328328.87209884095|329459.32925348094|  330763.030633789|332208.78690688405| 333867.4877901575|335613.18617824116|  337593.489068913| 339698.1338672879| 342123.5247139136|344506.07753354736|346651.82700101665|348834.44200362096| 351494.7359933141| 354734.3332008125|  357941.228599096| 361020.2795170024|  363959.294678054|366999.90467573097|  369605.012118455| 371818.7215350317| 373733.0355660026| 375651.0078734569| 377630.5874662609|379614.69064557616| 381598.3251662687|383175.04945840506| 384455.0224475142|385393.37577981595| 386660.0180283067| 387863.6988802028| 389432.2623412634| 390961.1214035947| 392861.3847107913|394770.32434813486|  396670.903903024|398219.18489728775| 399773.9881961835|401152.93459845945|402599.24910886213| 404089.6375545144|405893.99708975415| 407845.2154767105| 409643.4949250046| 411278.9079796099|413249.60958838346|   415335.41116718|417072.64496741677|418441.81766935164| 419582.8468593443|420821.44385787146|421690.30302185466|422224.36412043404| 422570.4255437558| 423418.5914246044| 424926.7644892553| 427107.4522571042|429540.12604839844|432213.36447225185|434868.99581164325| 437544.4893494995|  439670.456737078|441503.30720619514|442836.60750283115| 444236.7608848831| 445854.8850531058| 447789.4613979836| 449777.0432513988| 451942.0620736747|454257.42690795567| 456593.2454325049| 459114.9361963379| 461493.0882186109| 464040.7386677009| 465964.6388099082|467975.83706897404|   469699.52659925|471375.1155359743| 472568.5731404128| 473551.7076860375| 474376.4603465738| 475061.9847411006|475840.86176698917| 476899.6858010487|478083.28691279824|478838.07874799863| 479355.0452572608| 479726.9075329634|480346.26149510546|480965.97389164614| 482116.6343821843| 483797.5456462155|485889.74406294944|488211.86675511714|  490688.194582049| 493374.5824490382|495626.79955681454| 496534.7229792742|496404.8573643865|496610.61637693626| 498952.1714164829|504032.46484287706| 510777.8120847742|518608.62859217153| 526431.6897655269| 533760.0990658733| 541183.3306318616| 548801.9446478961| 557649.4176538821| 567572.8045800928| 577819.8905277909| 586607.1446367818| 592516.9048217547| 596403.2519831769| 600267.5192495385| 605369.9063601671| 611457.0252209541| 619666.5851914147| 629861.3619637123| 642571.3787514974| 655448.2451996497| 666729.1943713131| 674880.7808088684| 677521.2303579852| 675160.1414626198| 669298.1970379987| 664344.4961701307| 660695.8218559833| 658017.6747485494| 654422.1920110572| 651194.4571715383| 649274.1003401345| 650028.9669776714| 652590.7123150508| 656274.1368828196| 660041.1237506013| 663631.3906133563| 666705.0948627661| 669075.7404355342|  670833.657326379| 671927.0730642996| 672511.1752856957| 673624.1294290805| 676498.0130221065| 680546.8401839533|\n",
            "|  394913|       1|    New York, NY|       msa|       NY|425262.24225774774| 427062.7421858645|428877.10445343686|432603.85880550835|436473.98960633593| 440800.6686767985| 445465.5653083232|450419.99230102403| 455410.4789629071|460329.68879432435|465046.30290142755|469526.86301025905| 473835.9135743457| 478295.0490938065|482586.46844374033| 486944.7263079031|491251.65660487046|495906.44114697754| 500590.0097641494|505449.05418327247| 510316.5551353276|515535.50774347805|520562.00151567516| 525422.0268830421|  530298.980733661| 534927.7590293423| 539303.2164687378| 543389.3380568946| 547711.7123656253| 552643.6014300686| 558039.6504715552|  564517.262615588| 571644.2774828682| 578957.1790808094| 585780.2382387976| 592437.4838471911| 599095.9440770047| 605766.8451583643|  612551.241997831| 618826.1871797411| 625034.1506014834| 631357.2501378832|  638030.487543961| 644581.2266838005| 650454.9169538972| 655911.7993377721|  661091.440763852| 666134.4819056859| 671669.6823538017| 677343.7864207595| 683295.7918769133| 689106.7481005412|  695704.432335907| 703019.6680134422| 711303.6456041844| 719953.7289814496| 729050.2908674342| 738106.5988830975| 746774.1661006678| 754692.4806103003| 762143.9108790805| 769384.1693247763| 776872.3200667431| 785407.0437955005| 794645.3432957971| 804008.5025142897|  812791.816012995|821442.5404399945| 829997.2247829341| 838809.5947322181| 846945.1705967766| 854896.5233216388| 861988.2329131858| 868989.4021593834| 874867.5637924997| 880045.0257438932| 884623.9975304031| 888826.8167851424| 891766.4837569889| 892853.9761598855| 892199.0830063306| 889999.7292064497| 886893.5441959919| 883350.7399286103| 879898.6059317446| 877270.3792969179|  876495.170275162| 876151.6899606601|  875849.308031697| 873531.9346805918| 870300.3715156195| 866750.6435125998|  863266.928588835| 860739.4584026368| 858294.9478635732| 855988.5891476581| 853871.1398189605| 851684.1464790463| 848886.4326219269| 845554.7178209418|840676.4759211313| 835557.5257253102| 829983.1918546096| 824944.3786130137| 819935.2551036235| 814528.6136336742| 808796.2794238011| 802980.4997829664| 796891.9325224521| 790836.0225072756| 785272.3580990891| 779576.7933530845| 774517.8200378949| 769051.7717142574| 763958.2175433921| 758514.8766643464| 753836.5592267012| 749846.4595014543| 746916.4405994719| 744825.7819316536| 743821.4553216364| 743752.6798771193|  743303.123470948|  743109.982051504| 742727.1921345502| 743514.4334307307| 744402.6867569127| 744951.0357947409| 744420.6475757454| 742731.0422549277| 740097.5707279135|  736983.934789627| 734582.5683188769| 732781.5022903023| 732097.5978309349| 730879.9496357654| 729534.8968037074| 727250.0910333856| 724993.4644023055| 722872.0658383617| 720890.8470755949| 718786.9967936614| 716309.9183721851| 713972.1280082708|  711769.816583777| 710403.6836598039| 710293.4041135077| 711062.1197927877| 712794.1182116922| 714050.3405533073|  715459.048228461| 716061.9375446279| 717029.7378555072| 717258.4381795232| 717700.9829449801| 717851.9140516458| 719148.2423728326| 720622.1371458089| 722309.7468818367| 723684.4973722141| 725808.3485967936| 729009.0127681022| 732807.8954050654| 736811.2201689401| 741124.4867352727| 746184.0344518311| 750790.4153706725| 754191.3900615898| 757788.6592829347| 762192.0689648507| 767805.8794907178|  773328.546279314| 778478.7637174627| 782135.1285560693| 784133.2095397855| 784993.9891655701| 786705.8038363949| 789095.4566261108| 792385.8773886954| 794682.4919881657| 796350.0158978528| 797114.3080747452| 798130.1755509066| 798625.1410924521|   800299.97919957| 802055.8722376698| 804309.2362553263| 807023.6187601836| 811195.0437107085| 816258.7196478924| 820608.9465701012| 824190.6652183743| 827103.9462842937| 829800.1570515396| 831598.3995118942| 833570.2274992991| 835514.7297385655| 837388.3047626497| 838509.4993324826| 838236.9508068612| 837324.3855859056| 837448.1018189829|  839477.793757103|  843960.031136162| 848078.2713756011|  852636.838199587| 856512.8263913459| 861467.1568933557| 864711.3622637653| 867370.7831367954| 868610.4337856304| 870494.3363387431| 871621.6699002575| 872964.0603313678| 873342.6006038176| 874870.8354244521| 877418.2421185471| 880225.3118130284| 883559.2069211043| 887141.8522964575| 891917.5015568353| 895695.0948669369| 898774.2781594726| 901053.1336702894|903683.4332246933|  904944.923179438| 905188.3959723084| 904007.1015659621| 902931.2476663576| 902719.4639829512| 902771.0938665974| 903288.8831733569| 902857.6187778441| 902445.2039997871| 901759.7548663341| 900429.1177554616| 897666.8995647589| 894941.6722072616|  894746.584753889| 895693.1016950124| 897487.5918989055| 897765.0452138089| 898383.4645308644| 898699.2059365311| 898858.9709472157|896862.1887439797| 893407.6219187068| 890563.0917800813| 892190.1640287405| 897154.9958561141| 904626.1713748988| 913265.3831070833| 921082.0263529989| 929696.4430646426| 937712.6700721575| 945974.1598392647| 954108.4695383171| 961519.2805949828| 967890.2883506109| 971432.5339257582| 973717.7955238236| 977774.9793211307| 984544.2279202766| 991495.1445767622| 997964.1840490814|1004901.6877297641|1016092.2085411241|1028331.7461388096|1040642.3074687823|1051607.4359609263|1057772.6728584205|1057588.0016445725|1050260.7696086923|1043487.5602983296|1038293.3655091679|1034493.2871727487|1029852.6595950709|  1023892.38614883|1019408.8348488907|1018840.4154417611|1022101.0807589922|1027389.4801026247|1032434.6209504186|1036507.7045804783|1039083.7242182534|1040631.0661188109|1042024.4096489009| 1043983.224124658|1046220.4684452371|1050271.2873489961|1058086.6892805377| 1068175.754525422|\n",
            "|  753899|       2| Los Angeles, CA|       msa|       CA| 436932.6334491204| 438674.4413562166|  440835.372509279| 445176.5820673898|449823.67669118074|454435.97314712865| 459125.1649053677|  463610.509480077| 467783.4206228189| 471486.2974272612| 475031.2481030123|478632.14114273054|  481136.880610853| 483913.1170369657| 487058.2185041171| 491869.7255154062|496819.51770631084|  501431.349688682|506006.09355514357|510361.99737753224| 514695.9361211369| 518807.6645751281|  522561.674156283|  526360.117992826| 529205.6295170062| 532614.4959361589| 536881.7886100475| 542924.7184794392|  549926.486036256| 557333.3767858025| 566221.2188011584|  575439.878199032| 584723.8112685162| 593163.4230028972| 601491.1220308518| 609698.0110145289| 616483.7802543184| 622849.7741759365| 629748.9556800224|  637997.738223503|   647868.28489822| 656656.2466055519| 666835.8039697985| 677434.2672727908| 689548.3822582503| 700366.1070279102| 710706.7306545182| 720647.3256726484| 731397.9225160853|  743806.276142059|  758428.801872625| 775815.8014539167| 796501.3663840322| 817959.4765428466| 837770.0889689169| 854161.1436958644| 868911.5379847782| 882955.4279782866| 893309.8233941955| 903119.0939888837|  911671.420706633| 922407.3648366098| 934401.7382026158| 947211.3643018393| 959670.8065163927|  971152.286347039| 984085.6633266242| 998364.776890444|1013414.3487994549|1028755.9016253725|1040513.4179215896|1051621.3915839705|1060841.1086344402| 1069338.651902524|1076876.4896079705| 1083612.737126576|1091155.6140773494|1097554.6576583048|1100348.7413196247|1102772.9977663693| 1101319.527816188|1101229.1660461798|1099721.4293854467| 1099191.308008644|1099035.7012046154|1098360.8006214334|1096502.2096896342| 1093137.973389547|1087335.1967440855|1081236.4964658841|1071856.4231294636|1061342.9173096358| 1048884.802707412|1036535.8160255133|1026510.9540000943|1015424.3949537739|1004823.7362068366| 990658.5053384411| 974667.5666078605| 954206.8147250091|932181.0393056045| 911594.5733308331| 893463.3582346481| 878183.8760364255| 867082.4099412728| 856035.0396305766| 843791.2328665982| 827454.5731124968|  813841.442885093| 805053.5857074894| 798998.0615715827| 793818.7155054217| 788651.0300448784| 781931.6796392179| 776072.5680668087| 771375.2200373128| 770011.3061642175| 770347.4224112317| 773960.9132510979| 780825.5913994826| 785037.4710585036| 785693.5342232218| 786165.7552102368| 789957.6724010812| 795261.3951822767| 795589.9345979365| 792035.8633508472| 785025.4564278424| 777332.8939447282| 769756.6065218122| 762754.9745388493|  759313.447019715| 757446.3658184066| 757579.4549650246| 755739.5015193815| 753379.4246561531| 746707.7492660526| 743168.0400112319| 740650.0861919789|  737303.656142349| 730873.5540615134| 723961.3116853861| 721741.9856606586| 721802.2910624482| 721289.0359210493| 718532.2286874634| 713856.1267658953| 709498.2960228194|  707696.840040293| 708311.6389014162| 711159.2708630258| 717968.0701296335| 727867.7560606148| 740414.8296152134| 753683.2625622902| 766969.2460447663| 777183.0396521143|  782683.773054714| 784881.4526514895| 788595.6906014411| 796441.0668838801| 807647.2896765345| 819985.8400418604| 833265.4433255541|  847896.664093534| 863903.7795986579| 878285.9413289828| 890846.8259745102| 897829.2910330162| 900959.6629356765| 901501.2494528737|  903898.264428886| 906895.2024226222| 909408.8676148349| 911087.7841515286| 914031.7132180772| 921089.8940215196| 930695.6426608405| 942524.5214728242| 953038.3406691332| 960923.8646996306| 964762.3514533191| 965246.4283113517| 963834.3020918096| 963306.4277455459|  963955.619844309| 962134.1781309578| 955507.0123908799| 945059.2149687057| 935373.5349892438| 926737.3810551087| 919418.9349135449| 922789.5720505476| 937611.3286939602|  958234.583839165| 974150.8286345392| 983546.0596709928| 991347.4749746964| 990621.0967125669| 981392.5306871758| 965902.8786540044| 954821.2947945074| 950759.0505544018| 952220.7013045276| 964528.1914007271| 984586.8301918564|1008527.3250810454|1026170.0523397126|1037932.6291045466|1046930.5034229032|1047817.2180654984|1046329.3828372787|1044004.9715676066|1049155.6127925965|1055463.5359247073|1063314.0096872116|1074101.5427198615|1087587.6508896237| 1100468.923839307|1110399.3873034106|1118496.7974191403|1124187.3941586802|1130175.6572781329| 1140292.372247912|1154598.325418142|1169423.2769797926|1179559.9595703622| 1184292.060673653|1179030.5778552692| 1165533.023051686|1149358.9195371412|1138108.9685770262|1131831.5175475895|1127929.3030122595|1128055.0941758703|1133937.2124679901|1144323.7883419057|1155565.1282969902| 1164938.004727036|1172689.8524038836|1176639.1768912135|1178711.7577644123|  1179852.77707351| 1180372.168490354|1176085.1545291052|1167832.322371222|1164773.0613130399|1172507.2171657595|1191729.8423774152| 1214867.025273528|1240478.4429152927|1263908.6715686955| 1278806.242637571|1286525.3444456498|1289882.5090532927|1300763.0676732033|1318237.3956263491|1340961.4097560623|1363594.4895358374| 1382542.080413863|1398363.2023240898|1413934.9430714885| 1431567.254913371|1452509.1869902844| 1477462.711165006|1506297.4595663173|1538375.5044254626|1567421.6821896408|1591394.1576425943|1605502.7746065327| 1610645.405977295|1604316.7079988748|1591287.9963762013| 1578754.982867724| 1571080.302621482|1566928.1561781026|1554110.3680174637|1535644.6275380922| 1516842.524289569|1510703.3368108228|1515151.7096445134|1528476.4972561486|1549039.0808876713| 1575204.193454019|1601566.6419701856| 1622974.007261684|1637535.4409921456|1645832.5736848784|1643990.8281131734| 1636771.178138827|1634285.8402605436|1641060.3347417489|\n",
            "|  394463|       3|     Chicago, IL|       msa|       IL| 298081.8490605952| 298447.5860978588| 299058.2946390375|  300564.420521434| 302325.5990088158|304261.24245344725|306246.46339377423|308902.94500374247| 312021.5257169334|315662.01306437847|318469.50968362147| 320734.7282175632| 322347.6136506195|323987.87291422713| 325732.7763241527| 327647.7823672116| 329912.3219144151|332262.50299384625| 334508.4124876824|337163.49221421866|340137.44394907827| 343628.7705133371| 346255.6453850095|348246.78665433615|349486.14396866487|351018.30613559874| 352876.5124121006| 354721.9316642524|356672.49326772155| 358602.2415940805|360823.44323498965|363536.59765296476| 366473.4932198786| 369643.2672348654|  371768.911066124| 373648.5300064408|375115.61490831757| 377087.8546304324| 379000.3484772931|381280.88248701807| 383386.6324126864|385338.24553847284|386913.14006434474|389101.21439131605| 391856.5713894088| 394981.9823632001|397397.68605921435|399281.14492378646|401100.23536948604|403092.17516380205|  405131.952081173|  407515.752238695|  410178.205252565| 413338.4222263766|416260.25673487975| 419536.2337798239| 422727.4377736543| 426287.5977652156| 429359.4868410395| 432327.7846158496| 434826.6744521062| 437651.3864214881|  440560.409561468| 443771.3861334522|  447082.980867967|450518.30195454607| 453794.7251308709|457240.7632699115|461044.30275962973| 465186.4861517925| 468458.8087488227|471232.45055779716|473534.28584692924|476089.38257367566|478770.16566330777| 481216.0001238931| 483724.3835161544| 485377.7194943042| 486559.1140420712| 487279.6568980513|487791.29884289583| 488120.0635345778| 488405.6063138956| 488967.9959131458| 489982.1053229665| 491126.9645544088|492053.22043853696|492345.99468857056| 492074.7246580817| 491365.2162013122|490299.53710713005|489052.93803346157|  487265.799371954| 485424.6445955457|483667.99817797047| 481688.1202057094|479590.70732968434|475477.45696797105| 473496.0036762597| 469640.1716063183|468108.5844029847|463862.88920907193| 461471.4318155215| 456931.2360690608|453235.52602490416|447921.24057521956| 442834.6379709845|436720.48246849264| 429573.4935063235| 423821.9229911536|418262.87409858056|  415331.080027669| 411859.4130097979| 409213.1302350629| 406496.0738436996| 404027.4419724367| 400504.5541199705|396879.79856221407| 393159.9598351298|391142.10551283276|389218.55750486505|388473.98292040353| 386505.5140193449|386836.22420688113|385890.56842795014|386684.49185652594|383751.31487475167|381278.61570753186|377170.63834768225| 374015.6565931973|369535.73457315663| 365232.9218463853|361173.84908205544| 358126.7693379384| 356218.7294929852| 354166.0285892863| 353071.5453475641|351317.83155031456| 350590.6141774776| 348930.1987403159| 347122.4399041823| 343656.0745032216|341032.48018704035| 337589.0316850487|335416.01132683695|333025.47859454574|  331825.662448807|330781.58450535807|329834.06539613305| 329662.1885023448|330121.14849967795| 330775.8665148893|331243.49316094484| 331426.4794781354| 331591.9042933937|332003.09671001305|333379.86603393673| 335694.6187314378| 338370.0093530627|341240.81463111914|343678.52953877626|346426.24638697325|348723.50716660795| 351279.5527295176| 353552.0803649279| 356398.9516842424| 359248.2504017383|362046.25615251507|364669.37710642273| 367360.5229446594|370174.03554324433|  372372.261896543|     374141.074608|  375049.499253049| 375676.8462164251|375861.98315128783|376140.23485474987|376437.77154568164|377025.33652567485| 377691.6501709677|378507.43104300817| 379173.6779772406| 380251.9916757282| 380959.6332000285| 381968.6231049211|382403.80445420835| 382752.3753572625| 383126.1457804401| 383818.1675204265| 385131.7477100708| 386607.9860832099| 388114.8598659228|389823.06248784746| 391557.1500610979| 392508.4990431415|392922.48216080415|392664.77394925925| 392622.0166454092| 392233.4336980258| 391804.6898161041| 391288.6928339502|391289.37958348746| 391733.1456097125|393104.44218694465|394907.75705774873|396984.05682334263| 399105.7011255088|400718.51118385285| 401916.2585399857|401907.52918998135| 401499.4553985113|  400769.343793599| 401002.1725636814| 401603.3648710951| 402426.6965001221| 403440.2379096185|404873.19367240806| 406435.8001826438| 408279.2849182131|409884.31281764177|411334.90185444284|411599.24611519167|411207.15562412405|410385.27216133755|409718.0306001385| 409334.2217922504|409103.93070185586| 409380.9279109386| 409879.9966584407| 410883.4035864004| 411695.7178776241| 412533.0863781437| 412663.5038842312|412362.12044282194| 411204.5366653716|409877.10217158264|  408417.431674937| 407706.0724635962|407451.12948584714|407689.20532085607|408458.19799128594|409651.89528270037|411038.51845404925| 411606.9918007396|411244.07653043856|410039.6270071396| 408943.6646092623|409086.74851149746| 411293.2588796791|415027.56793041225| 419646.3692737214|424324.55799038586| 428728.0390754516| 433348.6403588205|437900.74966024485| 442490.6381126349| 446947.3703307209|451183.70472410886| 454626.6041216484|456695.97531211603| 457497.0384664831|458516.93072707864|  460368.380544765| 463122.9247474959| 466783.5463788978|471722.53890882205|478464.54105373897| 485694.1858969359|  491483.344861622| 495689.5765638181| 497132.4916004865| 496374.2939567094|  493489.713692625| 491245.2766687625|489981.73216220917|  489380.071011642| 488543.8848585708|488117.36599707324| 488746.6303383501|490764.58251763025|493503.96926102677|496917.72424820624| 500140.8791215256| 503031.8748287886|504928.55195322516|506293.38132420345| 507177.6461281756| 507815.9630230793| 508506.1074560922| 510629.0420868183|514437.81737831637|518930.68007336365|\n",
            "|  394514|       4|      Dallas, TX|       msa|       TX|239522.83202916398| 239527.3564661615| 239576.6246323567|239749.15630601198|240028.42981753525|240264.29136437937|240519.41019514584|240994.02518302607|241649.96957786314| 242380.1580511773|243064.39456014996|243740.43267682777|244060.08203157107|243673.85050489148| 243081.2784686355|242682.78135238923|242710.70203261683| 242750.7974087924| 242815.5992619342|243126.30734144858| 243457.5946420195| 243705.5808384118|243741.22543749542|243762.44204343436| 243740.5741968785|243897.64842232506|244190.36507017957| 244792.1432648575|245423.52037699646|246364.51304691398|247328.59849017917|248382.98009171317|249191.04273561298| 249832.7336846725|250341.90538798887|250772.16576131215| 251041.7098650237|251138.11920978632|251265.99871344864|251487.23943599453|251707.58097935526|251978.80437789726|252131.97612981652|252423.60282383347| 252720.6834570306| 253089.2402110711|253372.62763893348| 253412.6238431394| 254130.6240999021|255890.88808047108|              NULL| 262184.2046279651|264450.56841172435| 265706.0603501948| 266412.9651885071| 267216.2927354459|268042.80010850675| 268858.9160837144| 269409.1947549356| 269799.6065705403| 270685.8255759605| 271351.7613028979|271950.26212579774| 272323.3328030215| 273066.0494873155|274000.67183713487|274817.98322689434|275637.8277618421|276441.83738552127|276862.66290653107| 277287.2364474903|277431.11814025394| 277526.8073915294| 277809.8273750365|278225.74298015446|  279125.060173245|280247.93619521894| 281394.4091307898|282219.80782291334| 282738.1765096215| 283313.9385444392| 284491.2116057426| 285474.5350953101|286421.86983330105| 286248.9879935021| 285568.9447928135|284682.44899782835| 284651.9705099365| 285212.5271998668|285949.09776453965| 286624.6682241827|287333.38025630155|288218.44282968936| 288864.1610668515| 289313.1810114774|289690.32684063143| 288663.9463396881| 286883.4214726939|284551.03234502074| 283335.5634258799|282647.1282603234| 282231.7044955508|282075.96648499154|  281424.278616879|280278.96106492745|278686.47006074333| 277351.1150808057| 276411.1180399014|275621.76714835904| 275368.4887249695|275402.93905732495|275757.01353393256| 276075.0341073799|276098.16162782704| 276191.2990533902| 275788.1600114232|275454.67430584854| 274971.8340751503|275433.46469712624| 276025.0399598884| 276187.7307431638|275880.05499535037|275462.43304166803|275718.05037867016|275940.14844717976|276071.45906543656| 275502.3220987223| 274353.3070270046|272787.40953066223| 271285.6579094042| 269828.2006279854|268900.76505883876|268253.06439872814|267663.48538451805|  267005.191431333| 266100.6228478705| 265514.7512487431|264924.58073940437|264889.36820356734| 264732.5542931618|264734.60184032004| 264550.3888162898| 264410.4844976481| 263969.7963479482| 263565.7665834773|263987.56850556127|265095.90170810843|  266529.540436277| 267800.1360297117|269168.29064783757| 270653.7444956365| 272068.2305552343| 273445.4062937578| 274788.3193092658| 276263.1482955396|277610.67346389365|279332.97804825054|281174.58511271764| 282902.2770453542| 284300.5962238505|285891.95245302183|288190.88640258665| 290559.9899276988| 292674.2638960676|294527.96781642723|  296597.066096335|298568.39830225153| 300365.1504140558|  302143.989848225|  303952.502052064|305749.72675858444|307263.61021287926| 308988.5573011755|310854.17030945024|  313024.675932359| 315042.6083477433| 317175.2342765737|319033.80767445173|321106.00364940084|323072.23640883964|325450.91801303957| 328046.3456561782|330681.49150363513|  332937.884689122| 335373.4202963264| 337844.2750771141| 340616.9280891761|343231.86051596265| 346100.0191717886| 349003.0921172948| 351757.8902791109|354226.32375816087| 356880.8081784378| 359499.7932933771|361802.47767431877| 363863.8500306741| 365732.1315515135|367544.75573183736| 368871.3525353228| 369924.4120504989|371080.38337770366|372677.19195377454| 374891.0873438583|377285.60971340956|379735.04737143195| 382000.7912648031|384279.57541800925| 386784.1213203869|388900.76674219215| 390701.9240780454|391753.48119958566| 392818.6579114532| 394029.1407662188|  395487.274295236| 397069.6987016305| 398888.7517445258|400726.42875818786|402357.49238380074|  403954.533555848| 405443.8114999451|407004.36531103303|407956.69324793294| 408956.9944464614| 409574.2149463578|410090.3484077572| 410050.8032261392|410103.44478409574|410402.12177146436|411081.30072475196| 411997.7096312723|412872.80596100184| 413330.5103658377|413217.06852995884|412931.76507758396|412595.49103440746|412532.49084438756| 412712.4532965264| 413417.4547738693| 414477.8084193396|415872.84328136756| 417936.5211576884|420353.09533310734|422746.95282723726| 423886.1658245128|423607.95381977066|422797.3339843327| 422889.0933218849| 424933.3407083596|428877.93540347717| 433918.8445274132|439603.99363694526|445353.41412354825| 451395.2499537358| 457992.6769016534|465394.23705072846|473958.67041180684|484070.39435948647| 494637.5592162873| 504015.8043954749| 511156.5071989796|  516706.801919604|522470.27362686343| 529265.7879406746| 537189.2402471069| 548498.5787190724| 562596.5004114219| 578760.6723699699|  595657.786612163|  611293.666828624| 624656.6699959134| 630499.5898761888| 629599.0904788896| 624264.9207725897| 619440.9819603126|  615729.954394888| 612960.9180775034| 609199.3660265323| 606006.3860949307| 603947.5979128099| 604356.8376969243| 606556.3108010018| 609633.2329161236| 612518.8022521626| 615017.5205761787| 616680.4657630841| 616718.1797099687| 616377.2282511978| 615759.8175243591| 616824.8376740332| 618760.9768374265| 622019.1797179041| 625245.8215702489|\n",
            "|  394692|       5|     Houston, TX|       msa|       TX|236691.07748048415|236780.13230829843|236638.70383519924| 236811.3582274481|236947.64429498478|237337.19450500925|237670.71779586034| 238127.5389477627|238674.32468567116| 239028.7582884921|239749.02836672124| 240465.4577785989| 240820.2555705089|240614.03985790708| 239773.0527464872| 239152.0425812823| 238796.8094191931| 238756.8782797995|238823.26792317207| 238667.8265434871| 238772.1942951777| 239001.4058843654|239336.67895486517|239583.02456823466|239627.54958281748| 239656.8492859671|240061.20904014408| 240859.2043630959|241781.51458348343| 242671.0061830814|243523.07136697127| 244530.6904835898|245355.99372298678|246021.02117420806|246511.45086643033|246946.79872773646| 247444.2580451646| 247830.3728024726|248307.18786857897|248647.66902557426| 248915.8095919919| 249040.8574541806|249205.62616533737|249486.80501178102|249730.11368449658|249995.74728519228|250234.90065405177|250611.65176346348|251208.77871096935|252506.47003498822|254775.09877825566| 256907.3325427817|259039.36473984946|260143.15181546402|261692.19380715498|262902.39948346774|264370.68763347046|  265661.703470429| 266886.7529165483|268208.28409364546| 269397.1555208094|270516.26625676756| 271375.1919214768| 272107.7660885088|272585.32474971836|273047.26549730415| 273423.8688175376|273671.4321773616|273839.53106923396| 273884.1229378073|274193.35862298677| 274475.8542444521| 274782.4945203561| 274759.6791251589|274917.11714826996| 275322.3378341168| 276301.0426506496|277247.71298766753| 278281.2951730426|279283.86778195744|  280438.976019812|  281722.743288398|282905.44844185706|284146.08931751415|284925.59159470507|285090.47783742455|  284769.613037522|284813.04925067583| 285342.7639233576|286247.41589777096| 286889.5670056948| 287563.9897307977|288096.81935297576|288654.52299080335| 289078.6160152569| 289574.9325337917|289203.16488087806|288574.71665622684|  287773.668267877|287625.57912015455|287508.6251379847|  287357.900174808| 287216.2931603389|286632.40599581675|285671.65949840046| 284656.8586329082|283361.77534437523|281956.06341998227|280445.68149954546|279927.13236297836| 279868.1436545365|  280194.828428779|280608.74249685154|281304.85382316686| 282102.3446039706| 282362.3124249287| 281991.7858733687|  281213.397017871| 280986.5077161785| 281212.5816889251|281389.39430245344| 281621.2370931428| 282169.6285407308|  283065.205061432| 283811.7936186671| 283867.7855520219| 282997.0134523843| 281291.9632101043| 279505.6810014293|278053.76851054566|277034.31012244086| 276165.5645852313| 275308.7786820882| 274425.8126712903|  273317.919872596| 272445.9697814205| 271741.8993045164| 271401.2928579556|271292.32638859394|  271198.292244857|270949.31249341334|  270485.969494509|269509.55919922283|268752.24152924685| 268536.4939986069| 269145.5896956011|269840.34747114993| 270442.6972163731| 270867.6862106129|271616.63881003554| 272559.7394253011|273854.39227947703| 274875.1170381387| 275635.1380254167| 276360.9630001088| 277218.7179523406| 278577.0480285888|280320.61089461425| 282390.4620125767|284485.47200696525| 286787.7232842784| 289612.1409675279|292547.15602622845|295672.85625912907|298587.33393949334|301620.83190199686|304136.51643646235|306430.84061488323|308566.43645566155| 310922.9070585308| 313338.5724909342|315564.09131371666|317718.19347087387| 319725.4172827092|322241.08766717353|325251.15754535416| 328727.8031174809| 332053.9933477323|335388.57044010476|338620.04214939737| 342096.3800855667| 345249.0943142139|348089.91892406397| 350219.6878609282|352197.20739358274|353809.73322387645| 355301.9379294912|356552.96269021626|357828.54545742343| 358966.2802161823| 359813.4543749808|360324.62227584975| 361063.3604153664|361632.47864287253| 361706.9006802139| 361126.7647929986| 360502.2661736145| 359912.3090723904| 359215.4681460539| 358266.0334153911| 357513.9463246876|357177.40877135954| 357454.5469910948| 358008.0009247726|358380.89817698736| 358428.5733007025| 358594.6242634533|359345.28655470005| 359955.9032903525|360395.80722853536|360261.25843123044|360296.19243088254| 360513.7962469417|  361002.180285455| 361548.6559335347|362003.82728811406| 362146.1656145857|361882.43194901844| 362042.5985382607| 362645.5710777401| 363882.9639669911|364976.40060184663|366039.17304553604| 366717.9474405873|367270.8312985651| 367664.4901573388|368132.84348942834| 368644.7382014892|369189.67509744456|369982.89890241344|370966.81845634716| 371810.0731227191| 372323.1676349486|372515.12393280165| 372542.5414388757| 372514.8954877429| 372612.5596491301| 373093.4456004027| 374033.1466154473|375127.99210307305|376361.00537289464| 377535.1051038609| 378742.9335800601| 379279.5552570064| 379019.3202693546|378487.5207036492|378806.40841540304|380520.41809136537| 383459.7659931897|386961.35270801507|390970.43957953545|395011.19823391334| 399305.3719925882|403803.69059224875| 408586.0832037731| 413826.8753620179| 419962.5012957509| 426493.4591311272|432606.51834537793| 437378.6227099194|   441188.27912666| 445061.8274752933|449740.55064877897| 454826.9835914406| 461100.5132641376|467994.54573875695|476682.79192652745| 485830.1691592527| 494859.8256170556|502548.93124035624|507099.10722429893| 508354.6977901302| 507013.1830210076|505448.35544951726|504130.93807466765| 502718.4667026354|500450.84977512946| 498544.1210445147|   497314.23262441| 497692.2696749866| 499044.1753767548| 501329.3441293772| 503416.8161123586| 505204.8484188149|506206.80021115375| 506384.5492342273|  506000.699127934|505525.58120262536|506030.67464625166|507320.41189844086| 509376.0348674156|511447.15524849924|\n",
            "|  395209|       6|  Washington, DC|       msa|       VA| 318581.2922130123| 318952.2107929607|319581.88159970334|320999.80794926157|  323026.440195711|325447.29085143056| 328463.7871258287| 332007.2926943574| 335601.3903914034|339116.17353239557| 342325.6687086876|345786.10282706417| 348923.3002566103|351722.30029781506|354622.85900007625| 358189.4606222115|362433.40715075034|366821.67222018866| 371216.1352957985| 375570.2236781968|379762.84840480285| 383665.3451594031|387527.81193792424| 391361.2947173459| 394752.5704311491|   397894.26190889| 401113.7312620103|405089.82627194637|409620.01833738125|414692.14134050655| 420201.4477586567|425921.78525852127|431359.93697299954| 436274.9925619412|440720.42565754004|444936.72845366754|448546.14176435285|452595.22201420646|  456901.157727266|461988.04943392106|467037.36007267114|472439.48612162395| 477981.7074387456| 483463.2328540059| 488946.4997573838|494474.46330784116|499895.35165335657| 505068.2531254907| 509780.1828264653|515046.75464330084|521007.40476762847| 528587.9038560133| 537626.8777145698| 548104.9130702051| 559932.6126801373| 571832.0913610342| 583608.3765458519| 593215.8004792491| 601479.1780137438| 609256.2449612195| 618010.3769299663| 626609.4395687033|  635804.161231055| 646618.7873499644| 659722.5702977921| 673018.5621836715| 685341.1177443571| 695962.028201759| 705904.6862545203| 714691.5208424876| 721898.1768801613| 727919.0900221468| 733011.5680317223| 738230.2731252568| 743667.1805718146|  748394.727914878| 751645.7577380631| 752895.9100549208| 752843.8880756175|  751566.079941576| 747915.8728939233| 742924.3614564164| 738387.6313788978| 735361.4337810857| 732917.5767207844| 730722.6062157912| 728527.2675922918| 727307.8150084154|  725555.389671285| 722017.4508280582| 717094.0800623699| 711548.2572118348| 706799.7425799345| 701583.0972064282| 696209.5919316796| 690062.3504967567| 684064.4749492906| 677411.6348007424| 669732.3560626219| 661072.0687224315|651611.8071999456| 642613.9738248053| 633822.1560709012| 625692.7116487984|  617491.661831091| 610242.0384200974| 603895.6519700555| 598644.8096518883| 592589.3098955349| 586654.6856875619| 581010.3064578739| 576525.5132071289| 573937.2890614554| 572290.3688668046| 571172.8322399199| 569322.3364310212| 567116.4735816583| 565643.8611338154| 565458.6133851159| 567033.6929702818| 570042.0333349305|  572654.165657122| 575622.9459946785| 578379.4249711834| 581486.7118617889| 582758.1380510012| 581990.1830032876| 579783.3842682901| 577493.2246480514|  575589.679444259| 573610.2057491122| 572330.7999820625| 571849.2346029696| 573129.9208151024| 574056.2530331939| 574783.3503883025| 574234.9535209521| 573881.8245256125| 572616.0313242343| 571128.1630614065|   569233.16448858| 567656.9814014849| 567406.2356111403| 567470.4596278683|  567708.241536993| 568473.1300388316| 570364.5440744292| 573456.2726048677| 575975.1071386731| 578404.9158663544| 580575.9182316674| 583191.6706411941|  586717.089540805| 590927.1085004521| 595349.4368072619| 598658.3161697672|  601335.976435449| 603936.8140325585| 606245.0069918953| 608714.2700288628| 611196.1457693899| 614816.1015324456| 618152.5792494944| 621686.3336931075| 625317.4554661092| 629618.0156585312| 633901.3343738025|  637475.844608466| 640155.4444687968| 642661.3876265608| 645018.6727554075| 647646.7427357483| 649385.2682162884|  650380.912914205| 650460.3531802483| 649860.1696608894| 650077.2173913899| 650508.6182296801| 651565.3062144197| 651826.6305937999| 652455.7352613185| 653248.4444555052| 654300.2046105098| 654193.4479530897| 653790.5785775515| 653305.4850838921| 653440.9478860922| 653886.5514887841|  655183.358609966| 657306.2133791588| 659304.4337018632| 660516.8072138629| 661881.7418493313| 663165.8618648686| 663744.3840412782| 663301.6224939461| 662491.6322303512| 662143.0891320221| 661800.7882309225| 661531.9839098275|  661223.148101922| 662162.8496731002| 664198.7603507155| 667326.9309692645| 670203.1546398116| 673085.2247266029| 675586.2765514838| 677810.0160296495| 678629.3826247122| 678503.4112045445| 677738.0441576518| 677531.8625903734| 678291.0115922688| 679942.9174574632| 681917.2476635474| 684491.1565358939|   687262.51722417| 689714.8694165252| 692029.9771223663| 693729.7930675355| 695698.9456934201| 696636.1387949018| 698248.2602185435| 699733.7488264022|701421.4816965824| 702508.5322205877| 703763.0294252193| 705090.6091421982| 706673.1968081853| 708501.1719538476| 711365.9154796669| 714554.9176978396| 716593.8487154791| 717536.6483285967| 717543.8627335114| 718039.3698352374| 718585.9682497397| 719943.6502097623| 721892.2368662063| 724645.5157771823| 728167.6110304786| 732242.3828759901| 736650.8459446552| 740387.4819405169| 742047.8979945801|741940.3151394963| 741918.0153916357| 744919.3679108418| 751553.3616606956| 760502.7416826122| 770543.3497921186| 779832.0260284864| 787901.3463695808| 795978.5502223275| 805031.9484820744| 815805.3176058931| 827138.4039152764| 837605.2965058748|  843788.224154565| 845360.8524250872| 843546.2731181426| 842905.6715257297|  844610.699506885| 849082.2345487972| 856760.7637707455| 868201.6863803846| 883859.5016746834| 899814.0585449799| 912792.9303613122| 919388.6278837583| 917984.8274945099| 910216.3786320216| 899671.5170733235| 892124.9338363545| 888274.0822367817|  886769.315700767| 884444.5400083658| 882426.4817115915|  880852.115875668| 883010.0778268552|  887103.329336227| 893139.9994493066| 898397.1938589808| 902427.6424497738| 904920.2727556833| 906433.6082033109| 907270.0400609641| 907916.4601682484| 908168.9186241963|   910212.44773654| 915792.3596681668| 924047.8161146091|\n",
            "|  394974|       7|Philadelphia, PA|       msa|       PA|218900.80395409832| 219464.4962395728|219844.58801782655|220790.92076762454|221736.64398406798|222889.63081144405| 224089.0573356469|225305.58744119856|226566.89640401056|227814.14668034614|229010.88942443664|230104.37622947447|231181.73470245933|232311.00139844246|233556.56718307044|234852.67311960366|236163.62994966967|237538.16550788772| 239142.7809686828|240931.58029339332|242883.00071642583|244714.38310856954| 246551.9888563543|  248067.467375807| 249519.7354565333|250871.08657466582| 252453.5572638153|254301.48505073274|256309.48731948496|258579.71597059537| 260986.1846896689|263913.97290761484| 267098.2603687115| 270376.6616952668| 273264.4046983379| 276018.8932934807|  278562.565112524| 280984.6348106239| 283293.1758773822|285750.10324702977| 288548.5800490535|291657.41942132526|295075.34872525587| 298603.4949939886| 302139.2219990932|305417.41206969187|308548.77306994447|  311252.844211899|313783.03723525535| 316094.2382133273| 318620.0586645901| 321485.1684598625| 324987.8597553375|329053.32720078697|333581.65615280817|338334.24459623726| 342710.1004273517| 346375.1514620975| 349399.7739445214|352483.59853806347|355878.93722509895| 359000.9581190843|361816.31981120416|364683.22654748335|368357.91084479465|372769.16055887326|377456.34012247063|381980.3989556953|386119.04553370713| 390156.8800106539|393762.35177602834| 397099.8616674016|399722.58144581475|402164.08938804036|404600.78071076906| 407292.1876388069|410000.49588727136|412531.87636581186|414664.62094097864| 416142.3784222756| 416826.3799469904|417110.46363312233|416996.40068301535|416613.83786845795|415927.80723903497|415520.78794748057| 415812.1098260583| 416386.5839758886|417366.69341022155| 417957.6122032144|418319.55714218685| 417761.2420092204| 416771.5422437548|415826.28580501786| 415018.2571575527|414086.83917963156| 412614.0341629902| 411615.4985715367|  411120.428948798| 411085.4208169524|410202.2541818305| 408506.1285956758|406006.02930302167| 403296.3369220498|400291.41367738135| 397259.5497795255| 394404.3317938364| 391787.4246808193| 389465.8712805862|387750.86113412137|  386852.025907737| 386363.8877286357|385571.74463999487| 384294.3761240736| 382445.5365288125|380499.18848111545|378533.67340140295| 377263.0608203264| 376690.5610455281| 376537.7239298949| 376589.3594599566|  376570.502869785| 376602.6544671552|376778.89406139817|377158.21287055284|377479.66295296187| 377131.8158056698|375824.14577278827| 373702.6827325193| 371055.0343208446| 368180.2461731539| 365714.8075398757| 363841.4421885328|362713.84225143236| 361791.5562105279|360597.22071002965| 358913.3398338938| 356903.3650245028|354997.40290738764| 353364.6482260511| 351739.6165733794|350170.17711755907|348708.02279019944|347556.49299903755| 346500.4292741644|  345763.817052095|345696.71799304744| 346105.7299641606|346468.35311629955| 346429.4120131096|346111.67468163307| 345760.0656824329| 345711.3163195471|345781.16995140584| 346072.4950096081| 346670.4306858022| 347864.6832941548| 349275.9846288413|350770.57646584837|351997.66333859897|353158.14088304364|354211.67479617527| 355090.9284085459| 356127.4047337789| 357103.9304506909|358465.75504116126|359850.42860327865| 361402.5989163399|  363106.253762416|364453.24142122734|365563.31137449393| 366226.1797440922| 366985.8115041244|367452.66718592163| 367954.4396940886| 368105.4552685873| 368380.5670254815|368364.34205057396|368697.86860156694|369029.89392930485|369834.75891254545|370717.32907029503|371744.92616150755| 372224.0672014251|372711.56737230375|  373071.990750852|373925.26619614754|375204.03046803846|376608.11600575014|  377587.725021783| 378181.0576839144|378859.39325272123|380037.17757818894| 381066.0390370916| 381306.7839357529|381246.15625220764| 381227.4582324265| 381689.0016349232|382298.35087047686|382939.47844435927|  383370.833772491|383966.07317851856|384659.63143971935| 385948.6263808803|387166.95099781005| 388441.0946170411|389608.06073909905| 391110.1810636232|392676.76584346197| 393999.3221075826| 394800.4691293388| 395266.7221589572|396057.21147078526| 397052.1379478868| 398277.4788913662| 399465.5395393016| 400841.0451737875|402175.39390546945| 403861.9077364993|405367.12592104037|406721.38644554955|407359.18858137843| 407680.4774628955| 407945.4104150047|408342.7858636935| 408926.5330411463|409641.24685237795|410344.05160883936| 411074.9230752974| 411967.1879236805| 413125.3921589858| 414413.4125454859|415332.98782440665|416196.17394114705|416833.20213598566| 417387.5358888284| 417646.9845261471|418079.46252674755| 419014.1819961181| 420029.5908361219|421050.22109435295| 422352.5783483328| 424312.1722482457| 426539.8944293663| 427898.8688201914|428525.4866530939|429157.33306613454| 430987.4996255602|434541.17061065993| 439601.2017039796| 445850.2135011345|452377.54864991823|458313.90118023084|464115.94845057355| 469867.8509230055| 476063.7262313701| 482556.8631119552|488873.27698438475|493274.36910581944| 495257.3413584384| 495064.7752616795| 495459.0796791056|497094.21993829164| 500273.2578606266|505483.35109636205| 512241.2730454683| 520941.8137066448| 529734.4108076482| 537675.8170386497| 543838.5479254494| 546580.4146799782| 546724.7445187279| 544829.5341807123| 544098.7072153453| 544198.5468598268| 545175.6929518097| 545786.2844181041| 546529.7130251968| 547977.1502419527|  550535.171831275| 553971.8313578544| 557573.1348688531| 561276.0388094793| 564782.5208287025| 568067.3395472479|  570406.990760801| 572240.3946995042|  573715.520486783| 575047.9294562322| 577239.5605482104| 580778.8980703442| 585286.6730867567|\n",
            "|  394856|       8|       Miami, FL|       msa|       FL|242340.04696147444|243014.11685503472|243722.58855344562|245147.95839906423| 246530.7701274776| 247911.5145449529|  249369.448002066|250870.21859941565| 252472.9620395165|254083.49034732615|255801.88329032945|257623.99194034887|259246.00669166227| 260856.6945598656|262712.73957521934| 264983.5331898052| 267696.8573535411|270573.20424041734| 273896.2888232876| 277590.3388430555| 281519.6393671005|285505.20833188586|289111.00952313043|292458.13675936963| 295348.8089152817| 298015.4644851177| 300517.6619520125|303329.24539010465|306412.73531843896|309709.02525851486|313177.51512136497|316967.69729880296|  320658.044082105| 324173.7452941449| 327383.3233184626| 331117.0561789816| 334871.9826863235|   338743.41947586|342700.58730772644| 347023.4783857897| 351594.1032637439|355890.27034748317| 360077.1905999843|364317.48416902026| 368848.5450434335| 373369.5202818401| 377851.6966602717| 381955.1961566175| 386227.8627045299|390253.42866904876|394579.19958194694|399126.40345923556|404812.51267612743|411260.23683830694|418372.86195236834| 425867.2474659681|433535.96573639644| 441113.0685519202|448297.71577667975| 455832.9345825673| 463041.3894330978|470644.61505141156| 478786.1997746807|488005.35879690317| 498349.5725206618|509513.27965847915|521883.51934243477|534200.7703181792|  546029.401911776| 556460.4630894008| 565729.6261141248| 574026.5378056854| 581908.7544706078| 588925.9741129805| 596201.0111685069| 605193.3761098664| 614459.4737116573| 622880.5629751069| 628395.0340406155| 631908.7309151411| 633804.1766904871| 634304.7628518558| 634863.3738183012| 634714.2019684433| 633746.7055202065| 632080.0806456357|  628870.171945915| 624585.5107206391| 619135.7449961224| 613009.6502985149| 605999.5628457573| 598311.7061937224| 590132.7455671941| 582789.9884541165| 574427.5265830845| 566201.3554820464| 555485.0979575332| 544913.4254634157| 532627.4856587802| 521196.2875566112|509320.8034663338| 498870.7984103936| 488036.0297917407|476548.84655700735| 464109.8883718324| 451414.4882999126|439503.46168498514|428711.00963075896|419038.97679090546|410834.66186906636| 402762.0039714438| 395362.7002601789| 387731.5449020755| 381427.4360642873|376053.34906084003|371604.00183075963|367613.13520498574|  364611.356169638| 362439.9658631656|360405.43687590346| 359161.8767652786|358731.24726326315| 359309.8014394915| 359552.4156670272| 359048.4072963689| 357227.9597877495| 355090.9348400877| 352751.2153101486| 350668.5776098661| 347827.2383084553| 345190.1763119771| 342813.0114851515| 340682.8597164555| 338713.7196605141|  336863.673273338| 335479.6780384751| 333920.0763423063| 332140.1563338228| 330207.5618154931|328703.53655298066| 327812.7177641975| 327427.1145004199|327477.18609635555| 327559.6646874755|328144.40000292094| 328605.6516344326|329185.07938864874|329683.14033932943|330506.73710804636| 332106.1994425214|334076.16876453353| 336347.2778973779| 338657.7324438645| 341153.0132069013|   344330.32364645| 347910.4992053182| 352291.1232447074| 356598.6469887739|360982.41438638145| 365144.4149001239|369776.47846867866|374506.52385468414| 379092.7252239489|  383408.565338827|  387662.860483459| 391853.5171318305| 395643.8939671838|399405.09710598976|403069.48945978127| 406732.7399345683|410339.89048893657| 413865.4492164964|417432.47862114134| 420260.5598755975|422837.47559174075|424897.18298620684|427084.58360871096| 429115.5169993292| 431625.2574654198|434409.32082534465| 437734.0023215855|440650.90668230696| 443302.6014888635| 445370.9061406974|447578.38221782754|449565.30069820414|451693.98378711723|454007.05259015533| 456818.0412831117|459893.91096869315| 462589.5042273516|464059.37974774936| 464989.3254714859|  465805.119460281| 467232.3704201541|468756.20559097786| 470299.2382122088|471803.93571512797|473182.62651075143|   474207.00898796| 475038.8789736328| 476494.6433570746| 477710.7621639524| 478356.8253977254| 478508.8633588965| 479560.5476042688| 481605.4007831689| 483749.8393933189|  485119.003108783| 486339.4441053313| 487290.9007867281|488566.12453037204| 489902.9583247534|491379.48720724083|493206.62791815115|495660.65488161583|497697.23196988396|498817.22593689366|499521.60990184196| 500589.9162705446|502555.36427201604| 504129.5850718149|506290.39330743154|  507984.228920113|509552.2513996667| 510663.0357811428| 512207.9534178269| 514279.6771458353| 515943.6297987635|517270.69963141036| 517768.1017211953|  517838.442332486| 516957.4423611257|516177.23818200716| 515607.2314025608|515633.20109696226|515948.60870731174| 517097.1730661317| 519244.1787851713| 522200.0346657057| 525725.3320297855| 529204.1377703001| 532215.3751662079|  533819.083031368| 533338.9341061324|531856.0522263933|  531062.894188431| 532854.1441789845| 537140.0267622723| 542795.8012739294| 549792.5655206656| 557158.8207141449| 564812.8099376672| 572262.0677871936|  580129.571625105|  589061.097468746| 599870.4035201631| 612265.3730147659| 624826.3799339439| 636100.8675203096| 645994.2294439921| 655572.0069966639| 666279.0727385465| 678337.3326724957| 694256.8201380612| 712944.9860541257| 735672.7950711051| 759526.4882641773| 782411.1042423923| 802395.5864876043| 815714.9224502663| 822289.9512988155| 822048.2905188681| 820776.6280602171| 820248.8650161466| 820912.8722814216| 819670.7297076229| 817816.1219426076| 816681.3537001096| 817937.4566688035| 820844.3223670255| 825099.1246648068| 829629.6236820556| 834480.0701419449| 839120.0923660888| 844386.8222994317| 849647.5043592053| 854226.2749658282| 857846.6222081251| 860911.8067346391| 864974.1352375856| 869251.6607794486|\n",
            "|  394347|       9|     Atlanta, GA|       msa|       GA|274507.18098075915|275167.74888129986| 275915.4354779518|277511.60831381584| 279256.1227083512| 281106.4108498476| 282957.9029048709|284909.37176565087| 286931.4826957646| 289009.9604969074| 290914.6359080673|292810.78417134186|294469.81377252395|  296024.567779755|297339.23809545237| 298649.0842251243|300014.12716224545|301405.02355168987|302818.32725848205| 304308.8172263966| 305825.4203295412|307317.42608885415|308694.70721196994| 310000.2947213443| 311124.9006541798|  312154.616765015| 313006.5335212881| 313923.3409600358|314792.41404677153|315717.84454304207| 316562.2055949214| 317404.5215799438|318237.65125686885|  319101.480083815|   319917.74816065| 320602.4816425668| 321196.8515432732| 321693.8852135231| 322224.8223191724| 322736.3974154219|323288.79194363795|323888.54225321766|324513.96034557995|  325271.144321719|  326092.133153443|326874.81670123717|327538.94900337094| 328208.1962799805|328775.82849473803|329381.45696536027| 329958.6913260536|330863.94730067486|331811.57921647525|332747.48149672593|333647.67268812686|334774.80036723544| 336009.5024858692| 337277.8023719951| 338342.1980495976| 339339.7292294972|  340285.310104514| 341297.4104312356| 342317.2303559077|343517.81212074886| 344956.8262015619|346624.38914259296|348175.12136084883|349640.3281881762| 351024.1191738029| 352415.9513396192| 353784.4517811839| 355177.8709040827| 356546.8583514593|357786.82633641665|358784.79794948874|359753.48978981044|360796.25433109025|  362034.435588475|363484.45140050753|364899.54628457356| 366128.2768735404|367095.15732776263|367780.59799295384| 368530.8954669568| 369162.9884576168| 369846.9863659114| 370578.2318904653|371422.47476049623| 372309.3660146394|372961.09915129025|373426.76771765825| 373582.6680294142|373241.49840897415| 372459.9925328046|371156.64860298793| 369866.3079227097| 367925.8112347375|365670.62945527904| 363026.7478562025| 360972.2867471236|359300.9912129149| 357695.2992445671| 355794.8142450605|  353597.217555453|351034.69633983687|347970.61613127845| 344014.9601636893| 339252.1227378995|334167.58427954855|329541.45347356383| 325390.4740454875| 321365.2454075343|  317405.501936193|313926.08937573334| 311161.0378373205| 308973.4430341629|306909.28341095004| 304832.2814741638| 302965.6113057885|  301713.406968405| 300559.1017981825| 299661.1646210956| 298914.8480435337|  299165.696484292|299596.46468033135| 299526.4658680149| 297749.5074980101| 294974.6223962352|291356.61774965166|  288146.234992883|  284956.007022922|282286.63861335214| 279693.5593818582| 277588.0780847207| 275466.4785006581| 273197.4397126663|270279.50718182634| 267414.8836171274| 265031.3820306803|263679.12417957187| 263103.2328360783| 262918.8511784354|262804.11000784213| 261812.9394619003|260988.92107820758|260563.97119781227|261566.65486483186| 262791.5485264237| 263795.2901595781| 264671.5860294608|265735.50929073186|266818.65250602557|267952.67326393997| 268831.8921266735|270005.41380710015| 271323.8320176226|  273041.888796576| 275022.1184831797|  277428.004325602|  280071.081703933| 283005.4149885773| 285937.1277034424| 288781.0308366364| 291479.3394730813|293948.10426174785|296647.11564495246| 299238.7414621242| 302023.8994390874|304373.55591676576|306780.25748694077|  309179.925201824| 311657.9690325137|313960.85716707027| 315632.2484401676|317108.37851194484| 318203.1547598772| 319405.9085984757|320493.59838903067|  322023.607299118| 323585.5417154867|325255.52148322616| 326959.6433400934|328829.32848779176| 330683.3709947984| 332519.5399149743| 334102.1305733111| 335793.3199567146|337432.28421475977|339380.08758712263| 341333.0164019755|343343.82833862293| 345299.5301850191| 347474.6048226327| 349466.8251452286| 351030.7843381925| 352568.4288492312| 354232.8149382532|  355854.174833407| 356862.7326675169| 357254.8410165715|  357686.794010948| 358731.1848241607| 360628.9832317722|363295.18952941423| 365785.5734169902| 368115.2637641537|370123.18668497883|372189.48007186496|373856.72145770845|375096.16794766224| 376165.1493500538|377141.41539247846|378346.39538045274|379694.96944751596|381425.34387139353|383469.59928832407| 385610.2541069341|387610.70758690545|389679.39057040773| 391380.5018197345| 393211.3661020224| 394518.6497876644|396290.87090898724|397902.02222606516|399645.6724571127|  401005.135611008| 402513.5313589554| 404099.4221108711| 405664.8682339117| 407037.7606321767|408225.63772081555| 409179.5998748699| 409634.4717854795| 409722.4021621821|409572.82959933486| 409509.6746044411|409649.96820041613| 410358.4817341958| 411536.1496775062|413200.89509112114| 415320.3134359119| 417653.8779629309|419845.29455774516|421098.66239893576| 421182.3706964268|420756.4777599492| 421007.9303068507| 423012.4169978905| 426924.8737393305|432055.90972746984| 437878.9132796661| 443529.7196902049|449387.17979947716| 455764.2246964739|462741.23838838004|470167.13241330645| 478279.8971710001| 486792.3440040385| 494404.1386754539|500463.46910142637|  505657.764668514|511535.97391898296|518666.02008078137| 526597.0578593365| 536232.9091234766|    546835.8164473| 558819.4824804015| 570700.1227275535| 581394.8280343241| 589787.9090896822| 593875.7670039883|  594031.749145014| 591267.2732218982| 588648.6008997326| 586603.3040234171| 584906.6491632775| 582964.4298045583| 581833.0999397567| 582160.5613728064| 583986.1696960236| 587030.7511685243| 590725.7439004062|  594497.838086787| 598004.3790114472| 601178.2916740589| 604206.3897126336| 606724.1301887967| 608592.6100280248|  609706.596248919| 611356.8233592339| 614429.8393532207| 618446.0695819948|\n",
            "+--------+--------+----------------+----------+---------+------------------+------------------+------------------+------------------+------------------+------------------+------------------+------------------+------------------+------------------+------------------+------------------+------------------+------------------+------------------+------------------+------------------+------------------+------------------+------------------+------------------+------------------+------------------+------------------+------------------+------------------+------------------+------------------+------------------+------------------+------------------+------------------+------------------+------------------+------------------+------------------+------------------+------------------+------------------+------------------+------------------+------------------+------------------+------------------+------------------+------------------+------------------+------------------+------------------+------------------+------------------+------------------+------------------+------------------+------------------+------------------+------------------+------------------+------------------+------------------+------------------+------------------+------------------+------------------+------------------+------------------+------------------+-----------------+------------------+------------------+------------------+------------------+------------------+------------------+------------------+------------------+------------------+------------------+------------------+------------------+------------------+------------------+------------------+------------------+------------------+------------------+------------------+------------------+------------------+------------------+------------------+------------------+------------------+------------------+------------------+------------------+------------------+------------------+------------------+------------------+-----------------+------------------+------------------+------------------+------------------+------------------+------------------+------------------+------------------+------------------+------------------+------------------+------------------+------------------+------------------+------------------+------------------+------------------+------------------+------------------+------------------+------------------+------------------+------------------+------------------+------------------+------------------+------------------+------------------+------------------+------------------+------------------+------------------+------------------+------------------+------------------+------------------+------------------+------------------+------------------+------------------+------------------+------------------+------------------+------------------+------------------+------------------+------------------+------------------+------------------+------------------+------------------+------------------+------------------+------------------+------------------+------------------+------------------+------------------+------------------+------------------+------------------+------------------+------------------+------------------+------------------+------------------+------------------+------------------+------------------+------------------+------------------+------------------+------------------+------------------+------------------+------------------+------------------+------------------+------------------+------------------+------------------+------------------+------------------+------------------+------------------+------------------+------------------+------------------+------------------+------------------+------------------+------------------+------------------+------------------+------------------+------------------+------------------+------------------+------------------+------------------+------------------+------------------+------------------+------------------+------------------+------------------+------------------+------------------+------------------+------------------+------------------+------------------+------------------+------------------+------------------+------------------+------------------+------------------+------------------+------------------+------------------+------------------+------------------+-----------------+------------------+------------------+------------------+------------------+------------------+------------------+------------------+------------------+------------------+------------------+------------------+------------------+------------------+------------------+------------------+------------------+------------------+------------------+------------------+------------------+-----------------+------------------+------------------+------------------+------------------+------------------+------------------+------------------+------------------+------------------+------------------+------------------+------------------+------------------+------------------+------------------+------------------+------------------+------------------+------------------+------------------+------------------+------------------+------------------+------------------+------------------+------------------+------------------+------------------+------------------+------------------+------------------+------------------+------------------+------------------+------------------+------------------+------------------+------------------+------------------+------------------+------------------+------------------+------------------+------------------+------------------+------------------+\n",
            "\n"
          ]
        }
      ]
    },
    {
      "cell_type": "code",
      "source": [
        "# create list of all cities in zhvi data with dashes to state abbreviations - this will be the standard cities included in alL ldata\n",
        "\n",
        "sql(\"\"\"\n",
        "SELECT REPLACE(REPLACE((LOWER(RegionName)), \", \", \"-\"), \" \", \"\") AS city\n",
        " FROM top\n",
        "  LEFT JOIN mid\n",
        "    USING (RegionName)\n",
        "  LEFT JOIN bot\n",
        "    USING (RegionName)\n",
        "WHERE RegionName <> 'United States'\n",
        "\"\"\")"
      ],
      "metadata": {
        "colab": {
          "base_uri": "https://localhost:8080/"
        },
        "id": "WEQoCf2lPltf",
        "outputId": "15170aa6-22df-4a8f-a897-799d2fd44754"
      },
      "execution_count": null,
      "outputs": [
        {
          "output_type": "stream",
          "name": "stdout",
          "text": [
            "+---------------+\n",
            "|           city|\n",
            "+---------------+\n",
            "|     newyork-ny|\n",
            "|  losangeles-ca|\n",
            "|     chicago-il|\n",
            "|      dallas-tx|\n",
            "|     houston-tx|\n",
            "|  washington-dc|\n",
            "|philadelphia-pa|\n",
            "|       miami-fl|\n",
            "|     atlanta-ga|\n",
            "|      boston-ma|\n",
            "|     phoenix-az|\n",
            "|sanfrancisco-ca|\n",
            "|   riverside-ca|\n",
            "|     detroit-mi|\n",
            "|     seattle-wa|\n",
            "| minneapolis-mn|\n",
            "|    sandiego-ca|\n",
            "|       tampa-fl|\n",
            "|      denver-co|\n",
            "|   baltimore-md|\n",
            "+---------------+\n",
            "only showing top 20 rows\n",
            "\n"
          ]
        }
      ]
    },
    {
      "cell_type": "code",
      "source": [
        "def sql_to_list(query):\n",
        "  result = spark.sql(query)\n",
        "  result_list = result.rdd.flatMap(lambda x: x).collect()\n",
        "  return result_list"
      ],
      "metadata": {
        "id": "n76u_lCvQiDk"
      },
      "execution_count": null,
      "outputs": []
    },
    {
      "cell_type": "code",
      "source": [
        "city_list = sql_to_list(\"\"\"\n",
        "SELECT REPLACE(REPLACE((LOWER(RegionName)), \", \", \"-\"), \" \", \"\") AS city\n",
        " FROM top\n",
        "  LEFT JOIN mid\n",
        "    USING (RegionName)\n",
        "  LEFT JOIN bot\n",
        "    USING (RegionName)\n",
        "WHERE RegionName <> 'United States'\n",
        "\"\"\")"
      ],
      "metadata": {
        "id": "UBauLq8WViBg"
      },
      "execution_count": null,
      "outputs": []
    },
    {
      "cell_type": "code",
      "source": [
        "city_list[-50:]"
      ],
      "metadata": {
        "colab": {
          "base_uri": "https://localhost:8080/"
        },
        "id": "OzUDcnatVmWX",
        "outputId": "c5ad5eff-e806-4642-f1ad-f8e69d74ce9c"
      },
      "execution_count": null,
      "outputs": [
        {
          "output_type": "execute_result",
          "data": {
            "text/plain": [
              "['wahpeton-nd',\n",
              " 'magnolia-ar',\n",
              " 'elkcity-ok',\n",
              " 'liberal-ks',\n",
              " 'worthington-mn',\n",
              " 'oskaloosa-ia',\n",
              " 'pampa-tx',\n",
              " 'clarksdale-ms',\n",
              " 'sterling-co',\n",
              " 'beatrice-ne',\n",
              " 'jamestown-nd',\n",
              " 'levelland-tx',\n",
              " 'grenada-ms',\n",
              " 'maryville-mo',\n",
              " 'arkadelphia-ar',\n",
              " 'dumas-tx',\n",
              " 'guymon-ok',\n",
              " 'borger-tx',\n",
              " 'pierre-sd',\n",
              " 'huron-sd',\n",
              " 'stormlake-ia',\n",
              " 'cordele-ga',\n",
              " 'evanston-wy',\n",
              " 'raymondville-tx',\n",
              " 'portlavaca-tx',\n",
              " 'othello-wa',\n",
              " 'vineyardhaven-ma',\n",
              " 'parsons-ks',\n",
              " 'price-ut',\n",
              " 'portales-nm',\n",
              " 'losalamos-nm',\n",
              " 'hereford-tx',\n",
              " 'andrews-tx',\n",
              " 'spiritlake-ia',\n",
              " 'fitzgerald-ga',\n",
              " 'winnemucca-nv',\n",
              " 'maysville-ky',\n",
              " 'snyder-tx',\n",
              " 'helena-ar',\n",
              " 'spencer-ia',\n",
              " 'atchison-ks',\n",
              " 'fairfield-ia',\n",
              " 'vermillion-sd',\n",
              " 'sweetwater-tx',\n",
              " 'pecos-tx',\n",
              " 'zapata-tx',\n",
              " 'ketchikan-ak',\n",
              " 'craig-co',\n",
              " 'vernon-tx',\n",
              " 'lamesa-tx']"
            ]
          },
          "metadata": {},
          "execution_count": 24
        }
      ]
    },
    {
      "cell_type": "code",
      "source": [
        "city_urls = []\n",
        "for city in city_list:\n",
        "  url = f'https://www.airbnb.com/s/{city}/homes'\n",
        "  city_urls.append(url)\n",
        "\n",
        "city_urls[:5]"
      ],
      "metadata": {
        "colab": {
          "base_uri": "https://localhost:8080/"
        },
        "id": "3_bNTORDZCMy",
        "outputId": "04814d68-767d-4dfa-a697-eabf96c4cb63"
      },
      "execution_count": null,
      "outputs": [
        {
          "output_type": "execute_result",
          "data": {
            "text/plain": [
              "['https://www.airbnb.com/s/newyork-ny/homes',\n",
              " 'https://www.airbnb.com/s/losangeles-ca/homes',\n",
              " 'https://www.airbnb.com/s/chicago-il/homes',\n",
              " 'https://www.airbnb.com/s/dallas-tx/homes',\n",
              " 'https://www.airbnb.com/s/houston-tx/homes']"
            ]
          },
          "metadata": {},
          "execution_count": 20
        }
      ]
    },
    {
      "cell_type": "markdown",
      "source": [
        "## That worked surprisingly well. Now I need to generate the web scraper.\n",
        "\n",
        "#### Google Colab environment is not conducive to running a selenium chrome driver, so I'll need to do this on my local machine in a standard Jupyter notebook.\n",
        "\n",
        "I'll need to export the city urls as a csv, load them into a Jupyter notebook, build and apply the web scraper, and collect reviews in my local directory to introduce back into Colab for further processing an analysis with the zillow data."
      ],
      "metadata": {
        "id": "OnrkyC7maybY"
      }
    },
    {
      "cell_type": "code",
      "source": [],
      "metadata": {
        "id": "4WdlzgM5Eo2t"
      },
      "execution_count": null,
      "outputs": []
    },
    {
      "cell_type": "code",
      "source": [
        "url_df = pd.DataFrame(city_urls, columns = ['url'])\n",
        "url_df.head()\n",
        "url_df.info()"
      ],
      "metadata": {
        "colab": {
          "base_uri": "https://localhost:8080/"
        },
        "id": "NpdDZucVFW5-",
        "outputId": "60c72754-6355-4158-f21a-4053f38b7f7f"
      },
      "execution_count": null,
      "outputs": [
        {
          "output_type": "stream",
          "name": "stdout",
          "text": [
            "<class 'pandas.core.frame.DataFrame'>\n",
            "RangeIndex: 894 entries, 0 to 893\n",
            "Data columns (total 1 columns):\n",
            " #   Column  Non-Null Count  Dtype \n",
            "---  ------  --------------  ----- \n",
            " 0   url     894 non-null    object\n",
            "dtypes: object(1)\n",
            "memory usage: 7.1+ KB\n"
          ]
        }
      ]
    },
    {
      "cell_type": "code",
      "source": [
        "url_df.to_csv('city_urls.csv', index=False)\n",
        "files.download('city_urls.csv')"
      ],
      "metadata": {
        "colab": {
          "base_uri": "https://localhost:8080/",
          "height": 17
        },
        "id": "vawvrF32tIq_",
        "outputId": "a51d655b-66eb-4c9b-87ca-98d880da9c6a"
      },
      "execution_count": null,
      "outputs": [
        {
          "output_type": "display_data",
          "data": {
            "text/plain": [
              "<IPython.core.display.Javascript object>"
            ],
            "application/javascript": [
              "\n",
              "    async function download(id, filename, size) {\n",
              "      if (!google.colab.kernel.accessAllowed) {\n",
              "        return;\n",
              "      }\n",
              "      const div = document.createElement('div');\n",
              "      const label = document.createElement('label');\n",
              "      label.textContent = `Downloading \"${filename}\": `;\n",
              "      div.appendChild(label);\n",
              "      const progress = document.createElement('progress');\n",
              "      progress.max = size;\n",
              "      div.appendChild(progress);\n",
              "      document.body.appendChild(div);\n",
              "\n",
              "      const buffers = [];\n",
              "      let downloaded = 0;\n",
              "\n",
              "      const channel = await google.colab.kernel.comms.open(id);\n",
              "      // Send a message to notify the kernel that we're ready.\n",
              "      channel.send({})\n",
              "\n",
              "      for await (const message of channel.messages) {\n",
              "        // Send a message to notify the kernel that we're ready.\n",
              "        channel.send({})\n",
              "        if (message.buffers) {\n",
              "          for (const buffer of message.buffers) {\n",
              "            buffers.push(buffer);\n",
              "            downloaded += buffer.byteLength;\n",
              "            progress.value = downloaded;\n",
              "          }\n",
              "        }\n",
              "      }\n",
              "      const blob = new Blob(buffers, {type: 'application/binary'});\n",
              "      const a = document.createElement('a');\n",
              "      a.href = window.URL.createObjectURL(blob);\n",
              "      a.download = filename;\n",
              "      div.appendChild(a);\n",
              "      a.click();\n",
              "      div.remove();\n",
              "    }\n",
              "  "
            ]
          },
          "metadata": {}
        },
        {
          "output_type": "display_data",
          "data": {
            "text/plain": [
              "<IPython.core.display.Javascript object>"
            ],
            "application/javascript": [
              "download(\"download_0adad7c1-200c-4b67-b5b2-5b7c4c98a71e\", \"city_urls.csv\", 38864)"
            ]
          },
          "metadata": {}
        }
      ]
    },
    {
      "cell_type": "code",
      "source": [],
      "metadata": {
        "id": "X-2E8eV0ICEe"
      },
      "execution_count": null,
      "outputs": []
    }
  ]
}